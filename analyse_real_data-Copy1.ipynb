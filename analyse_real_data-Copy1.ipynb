{
 "cells": [
  {
   "cell_type": "code",
   "execution_count": 1,
   "metadata": {},
   "outputs": [
    {
     "name": "stderr",
     "output_type": "stream",
     "text": [
      "/Users/astasik/anaconda3/lib/python3.6/importlib/_bootstrap.py:219: RuntimeWarning: compiletime version 3.5 of module 'tensorflow.python.framework.fast_tensor_util' does not match runtime version 3.6\n",
      "  return f(*args, **kwds)\n",
      "Using TensorFlow backend.\n"
     ]
    }
   ],
   "source": [
    "#Import Libraries\n",
    "import tensorflow as tf\n",
    "import numpy as np\n",
    "import math\n",
    "import os\n",
    "import matplotlib\n",
    "import matplotlib.pyplot as plt\n",
    "import datetime\n",
    "import time\n",
    "import scipy.io as sio\n",
    "\n",
    "import keras\n",
    "from keras.models import Sequential\n",
    "from keras.models import load_model\n",
    "from keras.layers import Dense\n",
    "from keras.layers import LSTM\n",
    "from keras.utils.vis_utils import plot_model\n",
    "\n",
    "from utils.utils import save_model\n",
    "\n",
    "%matplotlib notebook"
   ]
  },
  {
   "cell_type": "code",
   "execution_count": 2,
   "metadata": {},
   "outputs": [],
   "source": [
    "def generate_batches(X, Y, n_hidden=150):\n",
    "    len_data = X.shape[0]\n",
    "    len_batch = len_data-n_hidden\n",
    "    \n",
    "    output_X = np.zeros((len_batch, n_hidden))\n",
    "    output_Y = np.zeros((len_batch, n_hidden, 2))\n",
    "    \n",
    "    for i in range(len_batch):\n",
    "        output_X[i] = X[i:i+n_hidden]\n",
    "        output_Y[i] = Y[i:i+n_hidden]\n",
    "    return output_X, output_Y"
   ]
  },
  {
   "cell_type": "code",
   "execution_count": 3,
   "metadata": {},
   "outputs": [],
   "source": [
    "data = sio.loadmat('data/lfpTrace_ripples.mat')\n",
    "\n",
    "X = data['lfp'].flatten()\n",
    "ripple_loc = (data['rippleLocs'].T).flatten()\n",
    "Y = np.zeros_like(X)"
   ]
  },
  {
   "cell_type": "code",
   "execution_count": 4,
   "metadata": {},
   "outputs": [],
   "source": [
    "window = 25\n",
    "\n",
    "for i in ripple_loc:\n",
    "    Y[i-window:i+window] = 1\n",
    "    \n",
    "res = tf.one_hot(Y, depth=2)\n",
    "with tf.Session() as sess:\n",
    "    Y = (sess.run(res))"
   ]
  },
  {
   "cell_type": "code",
   "execution_count": 5,
   "metadata": {},
   "outputs": [],
   "source": [
    "n_hidden=100\n",
    "\n",
    "X_batch, Y_batch = generate_batches(X, Y, n_hidden=n_hidden)"
   ]
  },
  {
   "cell_type": "code",
   "execution_count": 6,
   "metadata": {},
   "outputs": [
    {
     "data": {
      "image/png": "[encoded data removed]",
      "text/plain": [
       "<Figure size 432x288 with 1 Axes>"
      ]
     },
     "metadata": {
      "needs_background": "light"
     },
     "output_type": "display_data"
    }
   ],
   "source": [
    "plt.figure()\n",
    "plt.plot(X)\n",
    "plt.plot(Y)\n",
    "plt.xlim(12500, 14000)\n",
    "plt.show()"
   ]
  },
  {
   "cell_type": "code",
   "execution_count": 7,
   "metadata": {},
   "outputs": [
    {
     "data": {
      "text/plain": [
       "(1507644, 100)"
      ]
     },
     "execution_count": 7,
     "metadata": {},
     "output_type": "execute_result"
    }
   ],
   "source": [
    "X_batch.shape"
   ]
  },
  {
   "cell_type": "code",
   "execution_count": 8,
   "metadata": {},
   "outputs": [],
   "source": [
    "X_batch = np.reshape(X_batch, (X_batch.shape[0], X_batch.shape[1], 1))\n",
    "\n",
    "n_split = 1200000\n",
    "n_split = 120000\n",
    "\n",
    "train_input = X_batch[:n_split]\n",
    "train_output = Y_batch[:n_split]\n",
    "test_input = X_batch[n_split:]\n",
    "test_output = Y_batch[n_split:]\n",
    "\n",
    "test_input = X_batch[n_split:n_split+10000]\n",
    "test_output = Y_batch[n_split:n_split+10000]"
   ]
  },
  {
   "cell_type": "code",
   "execution_count": 9,
   "metadata": {},
   "outputs": [],
   "source": [
    "train_output = train_output[:,-1,:]\n",
    "test_output = test_output[:,-1,:]"
   ]
  },
  {
   "cell_type": "code",
   "execution_count": 10,
   "metadata": {},
   "outputs": [
    {
     "name": "stdout",
     "output_type": "stream",
     "text": [
      "_________________________________________________________________\n",
      "Layer (type)                 Output Shape              Param #   \n",
      "=================================================================\n",
      "input_1 (InputLayer)         (None, None, 1)           0         \n",
      "_________________________________________________________________\n",
      "lstm_1 (LSTM)                (None, None, 100)         40800     \n",
      "_________________________________________________________________\n",
      "lstm_2 (LSTM)                (None, None, 100)         80400     \n",
      "_________________________________________________________________\n",
      "lstm_3 (LSTM)                (None, 100)               80400     \n",
      "_________________________________________________________________\n",
      "dense_1 (Dense)              (None, 2)                 202       \n",
      "=================================================================\n",
      "Total params: 201,802\n",
      "Trainable params: 201,802\n",
      "Non-trainable params: 0\n",
      "_________________________________________________________________\n",
      "None\n"
     ]
    }
   ],
   "source": [
    "n_dim = 1\n",
    "input_shape = (None,n_dim)\n",
    "batch_size = 200\n",
    "\n",
    "keras.backend.clear_session()\n",
    "inputs = keras.layers.Input(shape=input_shape)\n",
    "\n",
    "x = keras.layers.LSTM(100, activation='tanh', return_sequences=True)(inputs)\n",
    "x = keras.layers.LSTM(100, activation='tanh', return_sequences=True)(x)\n",
    "x = keras.layers.LSTM(100, activation='tanh', return_sequences=False)(x)\n",
    "predictions = keras.layers.Dense(2, activation='softmax')(x)\n",
    "\n",
    "model = keras.models.Model(inputs=inputs, outputs=predictions)\n",
    "model.compile(loss=['categorical_crossentropy'],\n",
    "              optimizer=keras.optimizers.Adam(lr=0.01))\n",
    "\n",
    "\n",
    "print(model.summary())"
   ]
  },
  {
   "cell_type": "code",
   "execution_count": null,
   "metadata": {},
   "outputs": [
    {
     "name": "stdout",
     "output_type": "stream",
     "text": [
      "Train on 120000 samples, validate on 10000 samples\n",
      "Epoch 1/5\n",
      " 83600/120000 [===================>..........] - ETA: 2:19 - loss: 0.0759"
     ]
    }
   ],
   "source": [
    "epochs = 5\n",
    "\n",
    "history = model.fit(train_input, train_output, batch_size=batch_size, epochs=epochs, \n",
    "                    verbose=True, validation_data=(test_input, test_output))\n",
    "\n",
    "save_model(model)"
   ]
  },
  {
   "cell_type": "code",
   "execution_count": null,
   "metadata": {},
   "outputs": [],
   "source": [
    "plt.figure()\n",
    "plt.plot(history.history['loss'])\n",
    "plt.plot(history.history['val_loss'])\n",
    "plt.title('model loss')\n",
    "plt.ylabel('loss')\n",
    "plt.xlabel('epoch')\n",
    "plt.legend(['train', 'test'], loc='best')\n",
    "plt.show()"
   ]
  },
  {
   "cell_type": "code",
   "execution_count": null,
   "metadata": {},
   "outputs": [],
   "source": []
  },
  {
   "cell_type": "code",
   "execution_count": null,
   "metadata": {},
   "outputs": [],
   "source": [
    "res = model.predict(test_input)"
   ]
  },
  {
   "cell_type": "code",
   "execution_count": null,
   "metadata": {},
   "outputs": [],
   "source": [
    "save_dir = 'plots'\n",
    "\n",
    "if not os.path.exists(save_dir):\n",
    "        os.makedirs(save_dir)\n",
    "\n",
    "for i in range(res.shape[0]):\n",
    "# for i in range(50):\n",
    "    path = os.path.join(save_dir, str(i)+'.pdf')  \n",
    "    plt.figure()\n",
    "    plt.plot(test_input[i], lw=2)\n",
    "    plt.plot(np.argmax(res[i], axis=1)-2, lw=2)\n",
    "    plt.plot(np.argmax(test_output[i], axis=1)-2, lw=2)\n",
    "    plt.ylim(-2., 2.)\n",
    "    plt.savefig(path)\n",
    "    plt.close()"
   ]
  },
  {
   "cell_type": "code",
   "execution_count": null,
   "metadata": {},
   "outputs": [],
   "source": []
  },
  {
   "cell_type": "code",
   "execution_count": null,
   "metadata": {},
   "outputs": [],
   "source": []
  },
  {
   "cell_type": "code",
   "execution_count": null,
   "metadata": {},
   "outputs": [],
   "source": []
  },
  {
   "cell_type": "code",
   "execution_count": null,
   "metadata": {},
   "outputs": [],
   "source": [
    "res.shape"
   ]
  },
  {
   "cell_type": "code",
   "execution_count": null,
   "metadata": {},
   "outputs": [],
   "source": []
  }
 ],
 "metadata": {
  "kernelspec": {
   "display_name": "Python 3",
   "language": "python",
   "name": "python3"
  },
  "language_info": {
   "codemirror_mode": {
    "name": "ipython",
    "version": 3
   },
   "file_extension": ".py",
   "mimetype": "text/x-python",
   "name": "python",
   "nbconvert_exporter": "python",
   "pygments_lexer": "ipython3",
   "version": "3.6.6"
  }
 },
 "nbformat": 4,
 "nbformat_minor": 2
}
