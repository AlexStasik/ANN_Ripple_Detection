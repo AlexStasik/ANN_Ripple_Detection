{
 "cells": [
  {
   "cell_type": "code",
   "execution_count": 47,
   "metadata": {},
   "outputs": [],
   "source": [
    "import numpy as np\n",
    "import os\n",
    "import glob"
   ]
  },
  {
   "cell_type": "code",
   "execution_count": null,
   "metadata": {},
   "outputs": [],
   "source": []
  },
  {
   "cell_type": "code",
   "execution_count": 48,
   "metadata": {},
   "outputs": [],
   "source": [
    "if 'X_all' in locals():\n",
    "    del X_all\n",
    "if 'y_all' in locals():\n",
    "    del y_all\n",
    "\n",
    "path_all = glob.glob('../data/processed_data/*')\n",
    "for path in path_all[:-1]:\n",
    "    X = np.load(os.path.join(path, 'X.npy'))\n",
    "    y = np.load(os.path.join(path, 'y_all.npy'))\n",
    "    \n",
    "    if 'X_all' in locals():\n",
    "        X_all = np.concatenate((X_all, X))\n",
    "        y_all = np.concatenate((y_all, y), axis=1)\n",
    "    else:\n",
    "        X_all = X\n",
    "        y_all = y\n",
    "\n",
    "np.save('../data/X_train.npy', X_all)\n",
    "np.save('../data/y_train.npy', y_all)\n",
    "\n",
    "\n",
    "np.save('../data/X_test.npy', np.load(os.path.join(path_all[-1], 'X.npy')))\n",
    "np.save('../data/y_test.npy', np.load(os.path.join(path_all[-1], 'X.npy')))\n",
    "\n"
   ]
  },
  {
   "cell_type": "code",
   "execution_count": null,
   "metadata": {},
   "outputs": [],
   "source": []
  },
  {
   "cell_type": "code",
   "execution_count": 49,
   "metadata": {},
   "outputs": [],
   "source": []
  },
  {
   "cell_type": "code",
   "execution_count": 51,
   "metadata": {},
   "outputs": [
    {
     "data": {
      "text/plain": [
       "array([0, 1, 2, 3, 4])"
      ]
     },
     "execution_count": 51,
     "metadata": {},
     "output_type": "execute_result"
    }
   ],
   "source": []
  },
  {
   "cell_type": "code",
   "execution_count": null,
   "metadata": {},
   "outputs": [],
   "source": []
  }
 ],
 "metadata": {
  "kernelspec": {
   "display_name": "Python 3",
   "language": "python",
   "name": "python3"
  },
  "language_info": {
   "codemirror_mode": {
    "name": "ipython",
    "version": 3
   },
   "file_extension": ".py",
   "mimetype": "text/x-python",
   "name": "python",
   "nbconvert_exporter": "python",
   "pygments_lexer": "ipython3",
   "version": "3.6.7"
  }
 },
 "nbformat": 4,
 "nbformat_minor": 2
}
