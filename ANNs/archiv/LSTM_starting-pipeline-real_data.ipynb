{
 "cells": [
  {
   "cell_type": "code",
   "execution_count": 1,
   "metadata": {},
   "outputs": [
    {
     "name": "stderr",
     "output_type": "stream",
     "text": [
      "Using TensorFlow backend.\n"
     ]
    }
   ],
   "source": [
    "%matplotlib inline\n",
    "\n",
    "#Import Libraries\n",
    "import tensorflow as tf\n",
    "import numpy as np\n",
    "import math\n",
    "import os\n",
    "import matplotlib\n",
    "import matplotlib.pyplot as plt\n",
    "import datetime\n",
    "import time\n",
    "\n",
    "import keras\n",
    "from keras.models import Sequential\n",
    "from keras.models import load_model\n",
    "from keras.layers import Dense\n",
    "from keras.layers import LSTM\n",
    "from keras.utils.vis_utils import plot_model\n",
    "\n"
   ]
  },
  {
   "cell_type": "markdown",
   "metadata": {},
   "source": [
    "# Load and prepare the data"
   ]
  },
  {
   "cell_type": "code",
   "execution_count": 2,
   "metadata": {},
   "outputs": [],
   "source": [
    "X_load = np.load('../data/processed_data/m4015_session2/X_serial.npy')\n",
    "Y_load = np.load('../data/processed_data/m4015_session2/y_serial.npy')\n",
    "\n",
    "n_hidden=1000"
   ]
  },
  {
   "cell_type": "code",
   "execution_count": 3,
   "metadata": {},
   "outputs": [
    {
     "name": "stdout",
     "output_type": "stream",
     "text": [
      "0.020211432474913946\n"
     ]
    }
   ],
   "source": [
    "print(np.sum(Y_load) / len(Y_load))"
   ]
  },
  {
   "cell_type": "code",
   "execution_count": 4,
   "metadata": {},
   "outputs": [],
   "source": [
    "res = tf.one_hot(Y_load, depth=2)\n",
    "with tf.Session() as sess:\n",
    "    Y_load = (sess.run(res))"
   ]
  },
  {
   "cell_type": "code",
   "execution_count": null,
   "metadata": {},
   "outputs": [],
   "source": [
    "def save_model(model, save_dir='models'):\n",
    "    if not os.path.exists(save_dir):\n",
    "        os.makedirs(save_dir)\n",
    "    t = time.strftime(\"%Y%m%d-%H:%M:%S\")\n",
    "    path = os.path.join(save_dir, t+'.h5')  \n",
    "    model.save(path)\n",
    "\n",
    "    \n",
    "def generator(X, y, batch_size, lookback):\n",
    "    batch_features = np.zeros((batch_size, lookback, 1))\n",
    "    batch_labels = np.zeros((batch_size, lookback, 2))\n",
    "    batch_weights = np.zeros((batch_size, lookback))\n",
    "    while True:\n",
    "        for i in range(batch_size):\n",
    "            while True:\n",
    "                index = np.random.randint(0, X.shape[0]-lookback)\n",
    "                a = X[index:index+lookback]\n",
    "                batch_features[i] = np.reshape(a, (a.shape[0], -1))\n",
    "                batch_labels[i] = y[index:index+lookback]\n",
    "                batch_weights[i] = y[index:index+lookback,0]*1. + y[index:index+lookback,1]*50\n",
    "                if np.sum(batch_features[i])<0:\n",
    "                    break\n",
    "        yield batch_features, batch_labels, batch_weights"
   ]
  },
  {
   "cell_type": "code",
   "execution_count": null,
   "metadata": {},
   "outputs": [],
   "source": []
  },
  {
   "cell_type": "code",
   "execution_count": null,
   "metadata": {},
   "outputs": [],
   "source": [
    "train_generator = generator(X_load[:90000], Y_load[:90000,:], 100, n_hidden)\n",
    "validate_generator = generator(X_load[90000:], Y_load[90000:,:], 100, n_hidden)"
   ]
  },
  {
   "cell_type": "code",
   "execution_count": null,
   "metadata": {},
   "outputs": [],
   "source": []
  },
  {
   "cell_type": "code",
   "execution_count": null,
   "metadata": {},
   "outputs": [
    {
     "name": "stdout",
     "output_type": "stream",
     "text": [
      "_________________________________________________________________\n",
      "Layer (type)                 Output Shape              Param #   \n",
      "=================================================================\n",
      "input_1 (InputLayer)         (None, None, 1)           0         \n",
      "_________________________________________________________________\n",
      "lstm_1 (LSTM)                (None, None, 100)         40800     \n",
      "_________________________________________________________________\n",
      "lstm_2 (LSTM)                (None, None, 100)         80400     \n",
      "_________________________________________________________________\n",
      "lstm_3 (LSTM)                (None, None, 100)         80400     \n",
      "_________________________________________________________________\n",
      "dense_1 (Dense)              (None, None, 2)           202       \n",
      "=================================================================\n",
      "Total params: 201,802\n",
      "Trainable params: 201,802\n",
      "Non-trainable params: 0\n",
      "_________________________________________________________________\n",
      "None\n"
     ]
    }
   ],
   "source": [
    "n_dim = 1\n",
    "input_shape = (None,n_dim)\n",
    "batch_size = n_hidden\n",
    "\n",
    "keras.backend.clear_session()\n",
    "inputs = keras.layers.Input(shape=input_shape)\n",
    "\n",
    "x = keras.layers.LSTM(100, activation='tanh', return_sequences=True)(inputs)\n",
    "x = keras.layers.LSTM(100, activation='tanh', return_sequences=True)(x)\n",
    "x = keras.layers.LSTM(100, activation='tanh', return_sequences=True)(x)\n",
    "predictions = keras.layers.Dense(2, activation='softmax')(x)\n",
    "\n",
    "model = keras.models.Model(inputs=inputs, outputs=predictions)\n",
    "model.compile(loss=['categorical_crossentropy'],\n",
    "              optimizer=keras.optimizers.Adam(lr=0.01),\n",
    "              metrics=['accuracy'],\n",
    "              sample_weight_mode='temporal')\n",
    "\n",
    "\n",
    "print(model.summary())"
   ]
  },
  {
   "cell_type": "code",
   "execution_count": null,
   "metadata": {
    "scrolled": true
   },
   "outputs": [
    {
     "name": "stdout",
     "output_type": "stream",
     "text": [
      "Epoch 1/5\n",
      " 64/100 [==================>...........] - ETA: 6:35 - loss: 1.3442 - acc: 0.7196"
     ]
    }
   ],
   "source": [
    "history = model.fit_generator(train_generator,\n",
    "                              steps_per_epoch=100,\n",
    "                              epochs=5, \n",
    "                              verbose=1,\n",
    "                              validation_data=validate_generator,\n",
    "                              validation_steps=100,\n",
    "                              )\n",
    "\n",
    "save_model(model)"
   ]
  },
  {
   "cell_type": "code",
   "execution_count": null,
   "metadata": {},
   "outputs": [],
   "source": [
    "plt.figure()\n",
    "plt.plot(history.history['loss'])\n",
    "plt.plot(history.history['val_loss'])\n",
    "plt.title('model loss')\n",
    "plt.ylabel('loss')\n",
    "plt.xlabel('epoch')\n",
    "plt.legend(['train', 'test'], loc='best')\n",
    "plt.show()\n",
    "\n",
    "plt.figure()\n",
    "plt.plot(history.history['acc'])\n",
    "plt.plot(history.history['val_acc'])\n",
    "plt.title('model loss')\n",
    "plt.ylabel('accuracy')\n",
    "plt.xlabel('epoch')\n",
    "plt.legend(['train', 'test'], loc='best')\n",
    "plt.show()"
   ]
  },
  {
   "cell_type": "code",
   "execution_count": null,
   "metadata": {},
   "outputs": [],
   "source": [
    "X, y, w = next(validate_generator)\n",
    "res = model.predict(X)"
   ]
  },
  {
   "cell_type": "code",
   "execution_count": null,
   "metadata": {},
   "outputs": [],
   "source": [
    "save_dir = 'plots'\n",
    "if not os.path.exists(save_dir):\n",
    "        os.makedirs(save_dir)\n",
    "\n",
    "second_dir = 'real'\n",
    "save_dir = os.path.join(save_dir, second_dir)  \n",
    "if not os.path.exists(save_dir):\n",
    "        os.makedirs(save_dir)\n",
    "\n",
    "\n",
    "for i in range(res.shape[0]):\n",
    "# for i in range(50):\n",
    "    path = os.path.join(save_dir, str(i)+'.pdf')  \n",
    "    plt.figure()\n",
    "    plt.plot(X[i], lw=2, label='estimator')\n",
    "    plt.plot(np.argmax(res[i], axis=1)-8, lw=2, label='estimator')\n",
    "    plt.plot(np.argmax(y[i], axis=1)-8, lw=2, label='truth')\n",
    "    plt.ylim(-10., 10.)\n",
    "    plt.legend()\n",
    "    plt.savefig(path)\n",
    "    plt.close()"
   ]
  },
  {
   "cell_type": "code",
   "execution_count": null,
   "metadata": {},
   "outputs": [],
   "source": []
  },
  {
   "cell_type": "code",
   "execution_count": null,
   "metadata": {},
   "outputs": [],
   "source": []
  },
  {
   "cell_type": "code",
   "execution_count": null,
   "metadata": {},
   "outputs": [],
   "source": []
  },
  {
   "cell_type": "code",
   "execution_count": null,
   "metadata": {},
   "outputs": [],
   "source": []
  },
  {
   "cell_type": "code",
   "execution_count": null,
   "metadata": {},
   "outputs": [],
   "source": []
  },
  {
   "cell_type": "code",
   "execution_count": null,
   "metadata": {},
   "outputs": [],
   "source": []
  },
  {
   "cell_type": "code",
   "execution_count": null,
   "metadata": {},
   "outputs": [],
   "source": [
    "X_load = np.load('../data/processed_data/m4015_session2/X_serial.npy')\n",
    "Y_load = np.load('../data/processed_data/m4015_session2/y_serial.npy')"
   ]
  },
  {
   "cell_type": "code",
   "execution_count": null,
   "metadata": {},
   "outputs": [],
   "source": [
    "plt.figure()\n",
    "plt.plot(X_load)\n",
    "plt.plot(Y_load)\n",
    "plt.xlim(107500, 108500)\n",
    "plt.show()"
   ]
  },
  {
   "cell_type": "code",
   "execution_count": null,
   "metadata": {},
   "outputs": [],
   "source": []
  },
  {
   "cell_type": "code",
   "execution_count": null,
   "metadata": {},
   "outputs": [],
   "source": []
  }
 ],
 "metadata": {
  "kernelspec": {
   "display_name": "Python 3",
   "language": "python",
   "name": "python3"
  },
  "language_info": {
   "codemirror_mode": {
    "name": "ipython",
    "version": 3
   },
   "file_extension": ".py",
   "mimetype": "text/x-python",
   "name": "python",
   "nbconvert_exporter": "python",
   "pygments_lexer": "ipython3",
   "version": "3.6.8"
  }
 },
 "nbformat": 4,
 "nbformat_minor": 2
}
