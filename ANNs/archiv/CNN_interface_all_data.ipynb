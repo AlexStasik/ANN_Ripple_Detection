{
 "cells": [
  {
   "cell_type": "code",
   "execution_count": 1,
   "metadata": {
    "scrolled": true
   },
   "outputs": [
    {
     "name": "stderr",
     "output_type": "stream",
     "text": [
      "/Users/astasik/anaconda3/envs/machine/lib/python3.6/importlib/_bootstrap.py:219: RuntimeWarning: numpy.dtype size changed, may indicate binary incompatibility. Expected 88 from C header, got 96 from PyObject\n",
      "  return f(*args, **kwds)\n",
      "Using TensorFlow backend.\n"
     ]
    }
   ],
   "source": [
    "%load_ext autoreload\n",
    "%autoreload 2\n",
    "%matplotlib notebook\n",
    "\n",
    "#Import Libraries\n",
    "import tensorflow as tf\n",
    "import numpy as np\n",
    "import math\n",
    "import os\n",
    "import matplotlib\n",
    "import matplotlib.pyplot as plt\n",
    "import datetime\n",
    "import time\n",
    "\n",
    "import keras\n",
    "from keras.models import Sequential\n",
    "from keras.models import load_model\n",
    "from keras.layers import Dense\n",
    "from keras.layers import LSTM\n",
    "from keras.utils.vis_utils import plot_model\n",
    "\n",
    "from sklearn.metrics import recall_score, precision_score\n",
    "from sklearn.preprocessing import OneHotEncoder, OrdinalEncoder, LabelEncoder\n",
    "from models import save_model, generate_model_CNN, plot_performance\n",
    "from generators import generator, decode"
   ]
  },
  {
   "cell_type": "code",
   "execution_count": 2,
   "metadata": {
    "scrolled": true
   },
   "outputs": [],
   "source": [
    "save_dir = 'plots'\n",
    "if not os.path.exists(save_dir):\n",
    "        os.makedirs(save_dir)\n",
    "\n",
    "X_load = np.load('../data/processed_data/m4019_session1/X.npy')\n",
    "Y_load_flat = np.load('../data/processed_data/m4019_session1/y.npy')\n",
    "\n",
    "\n",
    "# enc = OneHotEncoder(categories='auto')\n",
    "# Y_load = enc.fit_transform(Y_load_flat.reshape(-1, 1) ,).toarray()\n",
    "\n",
    "# split_index = int(X_load.shape[0]*0.8)\n",
    "    \n",
    "# X_train = X_load[:split_index]\n",
    "# Y_train = Y_load[:split_index]\n",
    "# # V_train = V_load[:split_index]\n",
    "\n",
    "# X_val = X_load[split_index:]\n",
    "# Y_val = Y_load[split_index:]\n",
    "# # V_val = V_load[split_index:]\n",
    "\n",
    "\n",
    "X_train = np.load('../data/processed_data/m4019_session1/X.npy')\n",
    "Y_train_flat = np.load('../data/processed_data/m4019_session1/y.npy')\n",
    "\n",
    "enc = OneHotEncoder(categories='auto')\n",
    "Y_train = enc.fit_transform(Y_train_flat.reshape(-1, 1) ,).toarray()\n",
    "\n",
    "\n",
    "X_val = np.load('../data/processed_data/m4017_session3/X.npy')\n",
    "Y_val_flat = np.load('../data/processed_data/m4017_session3/y.npy')\n",
    "\n",
    "enc = OneHotEncoder(categories='auto')\n",
    "Y_val = enc.fit_transform(Y_val_flat.reshape(-1, 1) ,).toarray()"
   ]
  },
  {
   "cell_type": "code",
   "execution_count": 3,
   "metadata": {},
   "outputs": [],
   "source": [
    "batch_size = 500\n",
    "time_window = 100\n",
    "n_dim = 1\n",
    "class_weight = {0: 1., 1: 50.,}\n",
    "predict_early = 0\n",
    "\n",
    "input_shape = (time_window, n_dim)"
   ]
  },
  {
   "cell_type": "code",
   "execution_count": 4,
   "metadata": {},
   "outputs": [],
   "source": [
    "train_generator = generator(X_train, Y_train, batch_size, time_window, predict_early=predict_early)\n",
    "validate_generator = generator(X_val, Y_val, batch_size, time_window, predict_early=predict_early)"
   ]
  },
  {
   "cell_type": "code",
   "execution_count": 5,
   "metadata": {
    "scrolled": false
   },
   "outputs": [
    {
     "name": "stdout",
     "output_type": "stream",
     "text": [
      "_________________________________________________________________\n",
      "Layer (type)                 Output Shape              Param #   \n",
      "=================================================================\n",
      "input_1 (InputLayer)         (None, 100, 1)            0         \n",
      "_________________________________________________________________\n",
      "conv1d_1 (Conv1D)            (None, 100, 20)           160       \n",
      "_________________________________________________________________\n",
      "average_pooling1d_1 (Average (None, 50, 20)            0         \n",
      "_________________________________________________________________\n",
      "batch_normalization_1 (Batch (None, 50, 20)            80        \n",
      "_________________________________________________________________\n",
      "conv1d_2 (Conv1D)            (None, 50, 20)            2820      \n",
      "_________________________________________________________________\n",
      "average_pooling1d_2 (Average (None, 25, 20)            0         \n",
      "_________________________________________________________________\n",
      "batch_normalization_2 (Batch (None, 25, 20)            80        \n",
      "_________________________________________________________________\n",
      "conv1d_3 (Conv1D)            (None, 25, 12)            1692      \n",
      "_________________________________________________________________\n",
      "average_pooling1d_3 (Average (None, 12, 12)            0         \n",
      "_________________________________________________________________\n",
      "batch_normalization_3 (Batch (None, 12, 12)            48        \n",
      "_________________________________________________________________\n",
      "flatten_1 (Flatten)          (None, 144)               0         \n",
      "_________________________________________________________________\n",
      "batch_normalization_4 (Batch (None, 144)               576       \n",
      "_________________________________________________________________\n",
      "dense_1 (Dense)              (None, 100)               14500     \n",
      "_________________________________________________________________\n",
      "batch_normalization_5 (Batch (None, 100)               400       \n",
      "_________________________________________________________________\n",
      "dense_2 (Dense)              (None, 100)               10100     \n",
      "_________________________________________________________________\n",
      "dense_3 (Dense)              (None, 2)                 202       \n",
      "=================================================================\n",
      "Total params: 30,658\n",
      "Trainable params: 30,066\n",
      "Non-trainable params: 592\n",
      "_________________________________________________________________\n",
      "None\n"
     ]
    }
   ],
   "source": [
    "model = generate_model_CNN(input_shape)\n",
    "\n",
    "print(model.summary())"
   ]
  },
  {
   "cell_type": "code",
   "execution_count": null,
   "metadata": {
    "scrolled": true
   },
   "outputs": [
    {
     "name": "stdout",
     "output_type": "stream",
     "text": [
      "Epoch 1/15\n",
      "1000/1000 [==============================] - 106s 106ms/step - loss: 0.7096 - acc: 0.8884 - val_loss: 0.6548 - val_acc: 0.7178\n",
      "Epoch 2/15\n",
      "1000/1000 [==============================] - 98s 98ms/step - loss: 0.6326 - acc: 0.9097 - val_loss: 0.5898 - val_acc: 0.7301\n",
      "Epoch 3/15\n",
      " 246/1000 [======>.......................] - ETA: 58s - loss: 0.5690 - acc: 0.9157"
     ]
    }
   ],
   "source": [
    "history = model.fit_generator(train_generator,\n",
    "                              steps_per_epoch=1000,\n",
    "                              epochs=15, \n",
    "                              verbose=1,\n",
    "                              validation_data=validate_generator,\n",
    "                              validation_steps=1000,\n",
    "                              class_weight=class_weight, )\n",
    "\n",
    "save_model(model, name=predict_early)"
   ]
  },
  {
   "cell_type": "code",
   "execution_count": null,
   "metadata": {
    "scrolled": false
   },
   "outputs": [],
   "source": [
    "plot_performance(history)"
   ]
  },
  {
   "cell_type": "code",
   "execution_count": null,
   "metadata": {
    "scrolled": true
   },
   "outputs": [],
   "source": [
    "validate_generator = generator(X_val, Y_val, batch_size*100, time_window)"
   ]
  },
  {
   "cell_type": "code",
   "execution_count": null,
   "metadata": {},
   "outputs": [],
   "source": [
    "X_trial, y_trial, = next(validate_generator)\n",
    "res = model.predict(X_trial)"
   ]
  },
  {
   "cell_type": "code",
   "execution_count": null,
   "metadata": {
    "scrolled": true
   },
   "outputs": [],
   "source": [
    "threshold=0.9999\n",
    "y_true = decode(y_trial, threshold=threshold)\n",
    "y_pred = decode(res, threshold=threshold)\n",
    "\n",
    "weights = np.zeros_like(y_true)\n",
    "weights[y_true==0] = 1\n",
    "weights[y_true==1] = 100\n"
   ]
  },
  {
   "cell_type": "code",
   "execution_count": null,
   "metadata": {
    "scrolled": true
   },
   "outputs": [],
   "source": [
    "from sklearn.metrics import balanced_accuracy_score, recall_score, classification_report, confusion_matrix\n",
    "\n",
    "print(balanced_accuracy_score(y_true, y_pred, adjusted=True))\n",
    "print(recall_score(y_true, y_pred, average='weighted'))\n",
    "\n",
    "target_names = ['no ripple', 'ripple',]\n",
    "print(classification_report(y_true, y_pred, target_names=target_names))"
   ]
  },
  {
   "cell_type": "code",
   "execution_count": null,
   "metadata": {
    "scrolled": true
   },
   "outputs": [],
   "source": [
    "conv_matrix = confusion_matrix(y_true, y_pred)\n",
    "print(conv_matrix)\n",
    "conv_matrix = conv_matrix.astype('float') / conv_matrix.sum(axis=1)[:, np.newaxis]\n",
    "print(conv_matrix)"
   ]
  },
  {
   "cell_type": "code",
   "execution_count": null,
   "metadata": {
    "scrolled": false
   },
   "outputs": [],
   "source": [
    "plt.figure()\n",
    "plt.plot(y_true)\n",
    "plt.plot(y_pred+1)\n",
    "plt.show()"
   ]
  },
  {
   "cell_type": "code",
   "execution_count": null,
   "metadata": {},
   "outputs": [],
   "source": [
    "plt.figure()\n",
    "plt.plot(X_load)\n",
    "plt.plot(Y_load_flat)\n",
    "plt.show()"
   ]
  },
  {
   "cell_type": "code",
   "execution_count": null,
   "metadata": {},
   "outputs": [],
   "source": [
    "Y_load.shape"
   ]
  },
  {
   "cell_type": "code",
   "execution_count": null,
   "metadata": {
    "scrolled": true
   },
   "outputs": [],
   "source": [
    "# from sklearn.model_selection import TimeSeriesSplit\n",
    "# tscv = TimeSeriesSplit(n_splits=5)\n",
    "# for train_index, test_index in tscv.split(X):\n",
    "#     print(\"TRAIN:\", train_index, \"TEST:\", test_index)"
   ]
  },
  {
   "cell_type": "code",
   "execution_count": null,
   "metadata": {},
   "outputs": [],
   "source": []
  },
  {
   "cell_type": "code",
   "execution_count": null,
   "metadata": {},
   "outputs": [],
   "source": []
  },
  {
   "cell_type": "code",
   "execution_count": null,
   "metadata": {},
   "outputs": [],
   "source": []
  },
  {
   "cell_type": "code",
   "execution_count": null,
   "metadata": {},
   "outputs": [],
   "source": []
  }
 ],
 "metadata": {
  "kernelspec": {
   "display_name": "Python 3",
   "language": "python",
   "name": "python3"
  },
  "language_info": {
   "codemirror_mode": {
    "name": "ipython",
    "version": 3
   },
   "file_extension": ".py",
   "mimetype": "text/x-python",
   "name": "python",
   "nbconvert_exporter": "python",
   "pygments_lexer": "ipython3",
   "version": "3.6.7"
  }
 },
 "nbformat": 4,
 "nbformat_minor": 2
}
