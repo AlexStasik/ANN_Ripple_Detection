{
 "cells": [
  {
   "cell_type": "code",
   "execution_count": 1,
   "metadata": {},
   "outputs": [
    {
     "name": "stderr",
     "output_type": "stream",
     "text": [
      "Using TensorFlow backend.\n"
     ]
    }
   ],
   "source": [
    "%matplotlib inline\n",
    "\n",
    "#Import Libraries\n",
    "import tensorflow as tf\n",
    "import numpy as np\n",
    "import math\n",
    "import os\n",
    "import matplotlib\n",
    "import matplotlib.pyplot as plt\n",
    "import datetime\n",
    "import time\n",
    "\n",
    "import keras\n",
    "from keras.models import Sequential\n",
    "from keras.models import load_model\n",
    "from keras.layers import Dense\n",
    "from keras.layers import LSTM\n",
    "from keras.utils.vis_utils import plot_model\n",
    "\n"
   ]
  },
  {
   "cell_type": "markdown",
   "metadata": {},
   "source": [
    "# Load and prepare the data"
   ]
  },
  {
   "cell_type": "code",
   "execution_count": 2,
   "metadata": {},
   "outputs": [],
   "source": [
    "X_load = np.load('../data/fake_data_realistic/X.npy')\n",
    "Y_load = np.load('../data/fake_data_realistic/Y.npy')\n",
    "\n",
    "n_hidden=100"
   ]
  },
  {
   "cell_type": "code",
   "execution_count": 3,
   "metadata": {},
   "outputs": [
    {
     "name": "stdout",
     "output_type": "stream",
     "text": [
      "0.081236\n"
     ]
    }
   ],
   "source": [
    "print(np.sum(Y_load) / len(Y_load))"
   ]
  },
  {
   "cell_type": "code",
   "execution_count": 4,
   "metadata": {},
   "outputs": [],
   "source": [
    "res = tf.one_hot(Y_load, depth=2)\n",
    "with tf.Session() as sess:\n",
    "    Y_load = (sess.run(res))"
   ]
  },
  {
   "cell_type": "code",
   "execution_count": 5,
   "metadata": {},
   "outputs": [],
   "source": [
    "def save_model(model, save_dir='models'):\n",
    "    if not os.path.exists(save_dir):\n",
    "        os.makedirs(save_dir)\n",
    "    t = time.strftime(\"%Y%m%d-%H:%M:%S\")\n",
    "    path = os.path.join(save_dir, t+'.h5')  \n",
    "    model.save(path)\n",
    "\n",
    "    \n",
    "def generator(X, y, batch_size, lookback):\n",
    "    batch_features = np.zeros((batch_size, lookback, 1))\n",
    "    batch_labels = np.zeros((batch_size, lookback, 2))\n",
    "    batch_weights = np.zeros((batch_size, lookback))\n",
    "    while True:\n",
    "        for i in range(batch_size):\n",
    "            index = np.random.randint(0, X.shape[0]-lookback)\n",
    "            a = X[index:index+lookback]\n",
    "            batch_features[i] = np.reshape(a, (a.shape[0], -1))\n",
    "            batch_labels[i] = y[index:index+lookback]\n",
    "            batch_weights[i] = y[index:index+lookback,0]*1. + y[index:index+lookback,1]*10\n",
    "        yield batch_features, batch_labels, batch_weights"
   ]
  },
  {
   "cell_type": "code",
   "execution_count": null,
   "metadata": {},
   "outputs": [],
   "source": []
  },
  {
   "cell_type": "code",
   "execution_count": 6,
   "metadata": {},
   "outputs": [],
   "source": [
    "train_generator = generator(X_load[:90000], Y_load[:90000,:], 100, n_hidden)\n",
    "validate_generator = generator(X_load[90000:], Y_load[90000:,:], 100, n_hidden)"
   ]
  },
  {
   "cell_type": "code",
   "execution_count": null,
   "metadata": {},
   "outputs": [],
   "source": []
  },
  {
   "cell_type": "code",
   "execution_count": 7,
   "metadata": {},
   "outputs": [
    {
     "name": "stdout",
     "output_type": "stream",
     "text": [
      "_________________________________________________________________\n",
      "Layer (type)                 Output Shape              Param #   \n",
      "=================================================================\n",
      "input_1 (InputLayer)         (None, None, 1)           0         \n",
      "_________________________________________________________________\n",
      "lstm_1 (LSTM)                (None, None, 100)         40800     \n",
      "_________________________________________________________________\n",
      "dense_1 (Dense)              (None, None, 2)           202       \n",
      "=================================================================\n",
      "Total params: 41,002\n",
      "Trainable params: 41,002\n",
      "Non-trainable params: 0\n",
      "_________________________________________________________________\n",
      "None\n"
     ]
    }
   ],
   "source": [
    "n_dim = 1\n",
    "input_shape = (None,n_dim)\n",
    "batch_size = n_hidden\n",
    "\n",
    "keras.backend.clear_session()\n",
    "inputs = keras.layers.Input(shape=input_shape)\n",
    "\n",
    "x = keras.layers.LSTM(100, activation='tanh', return_sequences=True)(inputs)\n",
    "predictions = keras.layers.Dense(2, activation='softmax')(x)\n",
    "\n",
    "model = keras.models.Model(inputs=inputs, outputs=predictions)\n",
    "model.compile(loss=['categorical_crossentropy'],\n",
    "              optimizer=keras.optimizers.Adam(lr=0.01),\n",
    "              metrics=['accuracy'],\n",
    "              sample_weight_mode='temporal')\n",
    "\n",
    "\n",
    "print(model.summary())"
   ]
  },
  {
   "cell_type": "code",
   "execution_count": 8,
   "metadata": {
    "scrolled": true
   },
   "outputs": [
    {
     "name": "stdout",
     "output_type": "stream",
     "text": [
      "Epoch 1/20\n",
      "100/100 [==============================] - 17s 168ms/step - loss: 1.1617 - acc: 0.9120 - val_loss: 1.1947 - val_acc: 0.9172\n",
      "Epoch 2/20\n",
      "100/100 [==============================] - 17s 171ms/step - loss: 1.1575 - acc: 0.9242 - val_loss: 1.2036 - val_acc: 0.9178\n",
      "Epoch 3/20\n",
      "100/100 [==============================] - 15s 154ms/step - loss: 1.1828 - acc: 0.8553 - val_loss: 1.1857 - val_acc: 0.9189\n",
      "Epoch 4/20\n",
      "100/100 [==============================] - 17s 174ms/step - loss: 1.1704 - acc: 0.8588 - val_loss: 1.1905 - val_acc: 0.9185\n",
      "Epoch 5/20\n",
      "100/100 [==============================] - 18s 176ms/step - loss: 1.1423 - acc: 0.9147 - val_loss: 1.2087 - val_acc: 0.6600\n",
      "Epoch 6/20\n",
      "100/100 [==============================] - 18s 182ms/step - loss: 1.2005 - acc: 0.7410 - val_loss: 1.2056 - val_acc: 0.9151\n",
      "Epoch 7/20\n",
      "100/100 [==============================] - 16s 155ms/step - loss: 1.1697 - acc: 0.9039 - val_loss: 1.2018 - val_acc: 0.7965\n",
      "Epoch 8/20\n",
      "100/100 [==============================] - 17s 174ms/step - loss: 1.1468 - acc: 0.8776 - val_loss: 0.9408 - val_acc: 0.9055\n",
      "Epoch 9/20\n",
      "100/100 [==============================] - 17s 173ms/step - loss: 0.9338 - acc: 0.8651 - val_loss: 0.7560 - val_acc: 0.9482\n",
      "Epoch 10/20\n",
      "100/100 [==============================] - 16s 160ms/step - loss: 0.7446 - acc: 0.9414 - val_loss: 0.7885 - val_acc: 0.9560\n",
      "Epoch 11/20\n",
      "100/100 [==============================] - 18s 182ms/step - loss: 0.7059 - acc: 0.9542 - val_loss: 0.7269 - val_acc: 0.9484\n",
      "Epoch 12/20\n",
      "100/100 [==============================] - 18s 179ms/step - loss: 0.6944 - acc: 0.9576 - val_loss: 0.7096 - val_acc: 0.9646\n",
      "Epoch 13/20\n",
      "100/100 [==============================] - 18s 182ms/step - loss: 0.6812 - acc: 0.9568 - val_loss: 0.7207 - val_acc: 0.9623\n",
      "Epoch 14/20\n",
      "100/100 [==============================] - 17s 169ms/step - loss: 0.6484 - acc: 0.9608 - val_loss: 0.6684 - val_acc: 0.9659\n",
      "Epoch 15/20\n",
      "100/100 [==============================] - 20s 196ms/step - loss: 0.7403 - acc: 0.9348 - val_loss: 0.6767 - val_acc: 0.9637\n",
      "Epoch 16/20\n",
      "100/100 [==============================] - 18s 182ms/step - loss: 0.6540 - acc: 0.9612 - val_loss: 0.6642 - val_acc: 0.9644\n",
      "Epoch 17/20\n",
      "100/100 [==============================] - 17s 173ms/step - loss: 0.6451 - acc: 0.9654 - val_loss: 0.6520 - val_acc: 0.9671\n",
      "Epoch 18/20\n",
      "100/100 [==============================] - 18s 175ms/step - loss: 0.6237 - acc: 0.9657 - val_loss: 0.6674 - val_acc: 0.9666\n",
      "Epoch 19/20\n",
      "100/100 [==============================] - 17s 174ms/step - loss: 0.6357 - acc: 0.9649 - val_loss: 0.6637 - val_acc: 0.9658\n",
      "Epoch 20/20\n",
      "100/100 [==============================] - 16s 162ms/step - loss: 0.6261 - acc: 0.9654 - val_loss: 0.6532 - val_acc: 0.9649\n"
     ]
    }
   ],
   "source": [
    "history = model.fit_generator(train_generator,\n",
    "                              steps_per_epoch=100,\n",
    "                              epochs=20, \n",
    "                              verbose=1,\n",
    "                              validation_data=validate_generator,\n",
    "                              validation_steps=100,\n",
    "                              )\n",
    "\n",
    "save_model(model)"
   ]
  },
  {
   "cell_type": "code",
   "execution_count": 9,
   "metadata": {},
   "outputs": [
    {
     "data": {
      "image/png": "[encoded data removed]",
      "text/plain": [
       "<Figure size 432x288 with 1 Axes>"
      ]
     },
     "metadata": {
      "needs_background": "light"
     },
     "output_type": "display_data"
    },
    {
     "data": {
      "image/png": "[encoded data removed]",
      "text/plain": [
       "<Figure size 432x288 with 1 Axes>"
      ]
     },
     "metadata": {
      "needs_background": "light"
     },
     "output_type": "display_data"
    }
   ],
   "source": [
    "plt.figure()\n",
    "plt.plot(history.history['loss'])\n",
    "plt.plot(history.history['val_loss'])\n",
    "plt.title('model loss')\n",
    "plt.ylabel('loss')\n",
    "plt.xlabel('epoch')\n",
    "plt.legend(['train', 'test'], loc='best')\n",
    "plt.show()\n",
    "\n",
    "plt.figure()\n",
    "plt.plot(history.history['acc'])\n",
    "plt.plot(history.history['val_acc'])\n",
    "plt.title('model loss')\n",
    "plt.ylabel('accuracy')\n",
    "plt.xlabel('epoch')\n",
    "plt.legend(['train', 'test'], loc='best')\n",
    "plt.show()"
   ]
  },
  {
   "cell_type": "code",
   "execution_count": 16,
   "metadata": {},
   "outputs": [],
   "source": [
    "X, y, w = next(validate_generator)\n",
    "res = model.predict(X)"
   ]
  },
  {
   "cell_type": "code",
   "execution_count": 17,
   "metadata": {},
   "outputs": [],
   "source": [
    "save_dir = 'plots'\n",
    "\n",
    "if not os.path.exists(save_dir):\n",
    "        os.makedirs(save_dir)\n",
    "\n",
    "# for i in range(res.shape[0]):\n",
    "for i in range(50):\n",
    "    path = os.path.join(save_dir, str(i)+'.pdf')  \n",
    "    plt.figure()\n",
    "    plt.plot(10.*X[i], lw=2, label='estimator')\n",
    "    plt.plot(np.argmax(res[i], axis=1)-8, lw=2, label='estimator')\n",
    "    plt.plot(np.argmax(y[i], axis=1)-8, lw=2, label='truth')\n",
    "    plt.ylim(-10., 10.)\n",
    "    plt.legend()\n",
    "    plt.savefig(path)\n",
    "    plt.close()"
   ]
  },
  {
   "cell_type": "code",
   "execution_count": null,
   "metadata": {},
   "outputs": [],
   "source": []
  }
 ],
 "metadata": {
  "kernelspec": {
   "display_name": "Python 3",
   "language": "python",
   "name": "python3"
  },
  "language_info": {
   "codemirror_mode": {
    "name": "ipython",
    "version": 3
   },
   "file_extension": ".py",
   "mimetype": "text/x-python",
   "name": "python",
   "nbconvert_exporter": "python",
   "pygments_lexer": "ipython3",
   "version": "3.6.6"
  }
 },
 "nbformat": 4,
 "nbformat_minor": 2
}
