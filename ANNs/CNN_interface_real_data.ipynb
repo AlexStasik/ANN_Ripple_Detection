{
 "cells": [
  {
   "cell_type": "code",
   "execution_count": 1,
   "metadata": {
    "scrolled": true
   },
   "outputs": [
    {
     "name": "stderr",
     "output_type": "stream",
     "text": [
      "Using TensorFlow backend.\n"
     ]
    }
   ],
   "source": [
    "%load_ext autoreload\n",
    "%autoreload 2\n",
    "%matplotlib inline\n",
    "\n",
    "#Import Libraries\n",
    "import tensorflow as tf\n",
    "import numpy as np\n",
    "import math\n",
    "import os\n",
    "import matplotlib\n",
    "import matplotlib.pyplot as plt\n",
    "import datetime\n",
    "import time\n",
    "\n",
    "import keras\n",
    "from keras.models import Sequential\n",
    "from keras.models import load_model\n",
    "from keras.layers import Dense\n",
    "from keras.layers import LSTM\n",
    "from keras.utils.vis_utils import plot_model\n",
    "\n",
    "from sklearn.metrics import recall_score, precision_score\n",
    "from models import save_model, generate_model_CNN, plot_performance\n",
    "from generators import generator, decode"
   ]
  },
  {
   "cell_type": "code",
   "execution_count": 2,
   "metadata": {
    "scrolled": true
   },
   "outputs": [],
   "source": [
    "save_dir = 'plots'\n",
    "if not os.path.exists(save_dir):\n",
    "        os.makedirs(save_dir)\n",
    "\n",
    "X_load = np.load('../data/processed_data/m4015_session2/X.npy')\n",
    "Y_load = np.load('../data/processed_data/m4015_session2/y.npy')\n",
    "\n",
    "res = tf.one_hot(Y_load, depth=2)\n",
    "with tf.Session() as sess:\n",
    "    Y_load = (sess.run(res))\n",
    "\n",
    "split_index = int(X_load.shape[0]*0.8)\n",
    "    \n",
    "X_train = X_load[:split_index]\n",
    "Y_train = Y_load[:split_index]\n",
    "X_val = X_load[split_index:]\n",
    "Y_val = Y_load[split_index:]"
   ]
  },
  {
   "cell_type": "code",
   "execution_count": 3,
   "metadata": {},
   "outputs": [],
   "source": [
    "batch_size = 1000\n",
    "time_window = 100\n",
    "n_dim = 1\n",
    "class_weight = {0: 1., 1: 150.,}\n",
    "predict_early = 0\n",
    "\n",
    "input_shape = (time_window, n_dim)"
   ]
  },
  {
   "cell_type": "code",
   "execution_count": 4,
   "metadata": {},
   "outputs": [],
   "source": [
    "train_generator = generator(X_train, Y_train, batch_size, time_window, predict_early=predict_early)\n",
    "validate_generator = generator(X_val, Y_val, batch_size, time_window, predict_early=predict_early)"
   ]
  },
  {
   "cell_type": "code",
   "execution_count": 5,
   "metadata": {
    "scrolled": false
   },
   "outputs": [
    {
     "name": "stdout",
     "output_type": "stream",
     "text": [
      "_________________________________________________________________\n",
      "Layer (type)                 Output Shape              Param #   \n",
      "=================================================================\n",
      "input_1 (InputLayer)         (None, 100, 1)            0         \n",
      "_________________________________________________________________\n",
      "conv1d_1 (Conv1D)            (None, 100, 6)            48        \n",
      "_________________________________________________________________\n",
      "average_pooling1d_1 (Average (None, 50, 6)             0         \n",
      "_________________________________________________________________\n",
      "conv1d_2 (Conv1D)            (None, 50, 12)            516       \n",
      "_________________________________________________________________\n",
      "average_pooling1d_2 (Average (None, 25, 12)            0         \n",
      "_________________________________________________________________\n",
      "conv1d_3 (Conv1D)            (None, 25, 12)            1020      \n",
      "_________________________________________________________________\n",
      "average_pooling1d_3 (Average (None, 12, 12)            0         \n",
      "_________________________________________________________________\n",
      "flatten_1 (Flatten)          (None, 144)               0         \n",
      "_________________________________________________________________\n",
      "dense_1 (Dense)              (None, 100)               14500     \n",
      "_________________________________________________________________\n",
      "dense_2 (Dense)              (None, 100)               10100     \n",
      "_________________________________________________________________\n",
      "dense_3 (Dense)              (None, 2)                 202       \n",
      "=================================================================\n",
      "Total params: 26,386\n",
      "Trainable params: 26,386\n",
      "Non-trainable params: 0\n",
      "_________________________________________________________________\n",
      "None\n"
     ]
    }
   ],
   "source": [
    "model = generate_model_CNN(input_shape)\n",
    "\n",
    "print(model.summary())"
   ]
  },
  {
   "cell_type": "code",
   "execution_count": 6,
   "metadata": {
    "scrolled": true
   },
   "outputs": [
    {
     "name": "stdout",
     "output_type": "stream",
     "text": [
      "Epoch 1/10\n",
      "1000/1000 [==============================] - 98s 98ms/step - loss: 0.8155 - acc: 0.8413 - val_loss: 0.1143 - val_acc: 0.9789\n",
      "Epoch 2/10\n",
      "1000/1000 [==============================] - 80s 80ms/step - loss: 0.5627 - acc: 0.9260 - val_loss: 0.2389 - val_acc: 0.9347\n",
      "Epoch 3/10\n",
      "1000/1000 [==============================] - 86s 86ms/step - loss: 0.5481 - acc: 0.9286 - val_loss: 0.1574 - val_acc: 0.9609\n",
      "Epoch 4/10\n",
      "1000/1000 [==============================] - 82s 82ms/step - loss: 0.4967 - acc: 0.9289 - val_loss: 0.1408 - val_acc: 0.9630\n",
      "Epoch 5/10\n",
      "1000/1000 [==============================] - 83s 83ms/step - loss: 0.4572 - acc: 0.9334 - val_loss: 0.1849 - val_acc: 0.9500\n",
      "Epoch 6/10\n",
      "1000/1000 [==============================] - 76s 76ms/step - loss: 0.4711 - acc: 0.9332 - val_loss: 0.2103 - val_acc: 0.9401\n",
      "Epoch 7/10\n",
      "1000/1000 [==============================] - 77s 77ms/step - loss: 0.4599 - acc: 0.9320 - val_loss: 0.1964 - val_acc: 0.9507\n",
      "Epoch 8/10\n",
      "1000/1000 [==============================] - 93s 93ms/step - loss: 0.4306 - acc: 0.9355 - val_loss: 0.2414 - val_acc: 0.9367\n",
      "Epoch 9/10\n",
      "1000/1000 [==============================] - 91s 91ms/step - loss: 0.4417 - acc: 0.9364 - val_loss: 0.1247 - val_acc: 0.9653\n",
      "Epoch 10/10\n",
      "1000/1000 [==============================] - 85s 85ms/step - loss: 0.4576 - acc: 0.9358 - val_loss: 0.1704 - val_acc: 0.9534\n"
     ]
    }
   ],
   "source": [
    "history = model.fit_generator(train_generator,\n",
    "                              steps_per_epoch=1000,\n",
    "                              epochs=10, \n",
    "                              verbose=1,\n",
    "                              validation_data=validate_generator,\n",
    "                              validation_steps=1000,\n",
    "                              class_weight=class_weight, )\n",
    "\n",
    "save_model(model, name=predict_early)"
   ]
  },
  {
   "cell_type": "code",
   "execution_count": 7,
   "metadata": {
    "scrolled": false
   },
   "outputs": [
    {
     "data": {
      "image/png": "[encoded data removed]",
      "text/plain": [
       "<Figure size 432x288 with 1 Axes>"
      ]
     },
     "metadata": {
      "needs_background": "light"
     },
     "output_type": "display_data"
    },
    {
     "data": {
      "image/png": "[encoded data removed]",
      "text/plain": [
       "<Figure size 432x288 with 1 Axes>"
      ]
     },
     "metadata": {
      "needs_background": "light"
     },
     "output_type": "display_data"
    }
   ],
   "source": [
    "plot_performance(history)"
   ]
  },
  {
   "cell_type": "code",
   "execution_count": 8,
   "metadata": {
    "scrolled": true
   },
   "outputs": [],
   "source": [
    "validate_generator = generator(X_val, Y_val, batch_size*10, time_window)\n",
    "\n",
    "X_trial, y_trial, = next(validate_generator)\n",
    "res = model.predict(X_trial)"
   ]
  },
  {
   "cell_type": "code",
   "execution_count": 9,
   "metadata": {
    "scrolled": true
   },
   "outputs": [],
   "source": [
    "threshold=0.3\n",
    "y_true = decode(y_trial, threshold=threshold)\n",
    "y_pred = decode(res, threshold=threshold)\n",
    "\n",
    "weights = np.zeros_like(y_true)\n",
    "weights[y_true==0] = 1\n",
    "weights[y_true==1] = 100\n"
   ]
  },
  {
   "cell_type": "code",
   "execution_count": 10,
   "metadata": {
    "scrolled": true
   },
   "outputs": [
    {
     "name": "stdout",
     "output_type": "stream",
     "text": [
      "0.9027232391933899\n",
      "0.9243\n",
      "              precision    recall  f1-score   support\n",
      "\n",
      "   no ripple       1.00      0.92      0.96      9905\n",
      "      ripple       0.11      0.98      0.20        95\n",
      "\n",
      "   micro avg       0.92      0.92      0.92     10000\n",
      "   macro avg       0.55      0.95      0.58     10000\n",
      "weighted avg       0.99      0.92      0.95     10000\n",
      "\n"
     ]
    }
   ],
   "source": [
    "from sklearn.metrics import balanced_accuracy_score, recall_score, classification_report, confusion_matrix\n",
    "\n",
    "print(balanced_accuracy_score(y_true, y_pred, adjusted=True))\n",
    "print(recall_score(y_true, y_pred, average='weighted'))\n",
    "\n",
    "target_names = ['no ripple', 'ripple',]\n",
    "print(classification_report(y_true, y_pred, target_names=target_names))"
   ]
  },
  {
   "cell_type": "code",
   "execution_count": 11,
   "metadata": {
    "scrolled": true
   },
   "outputs": [
    {
     "name": "stdout",
     "output_type": "stream",
     "text": [
      "[[9150  755]\n",
      " [   2   93]]\n",
      "[[0.92377587 0.07622413]\n",
      " [0.02105263 0.97894737]]\n"
     ]
    }
   ],
   "source": [
    "conv_matrix = confusion_matrix(y_true, y_pred)\n",
    "print(conv_matrix)\n",
    "conv_matrix = conv_matrix.astype('float') / conv_matrix.sum(axis=1)[:, np.newaxis]\n",
    "print(conv_matrix)"
   ]
  },
  {
   "cell_type": "code",
   "execution_count": null,
   "metadata": {
    "scrolled": true
   },
   "outputs": [],
   "source": []
  },
  {
   "cell_type": "code",
   "execution_count": 12,
   "metadata": {
    "scrolled": true
   },
   "outputs": [],
   "source": [
    "# from sklearn.model_selection import TimeSeriesSplit\n",
    "# tscv = TimeSeriesSplit(n_splits=5)\n",
    "# for train_index, test_index in tscv.split(X):\n",
    "#     print(\"TRAIN:\", train_index, \"TEST:\", test_index)"
   ]
  },
  {
   "cell_type": "code",
   "execution_count": null,
   "metadata": {},
   "outputs": [],
   "source": []
  }
 ],
 "metadata": {
  "kernelspec": {
   "display_name": "Python 3",
   "language": "python",
   "name": "python3"
  },
  "language_info": {
   "codemirror_mode": {
    "name": "ipython",
    "version": 3
   },
   "file_extension": ".py",
   "mimetype": "text/x-python",
   "name": "python",
   "nbconvert_exporter": "python",
   "pygments_lexer": "ipython3",
   "version": "3.6.8"
  }
 },
 "nbformat": 4,
 "nbformat_minor": 2
}
