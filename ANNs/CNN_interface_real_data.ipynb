{
 "cells": [
  {
   "cell_type": "code",
   "execution_count": 1,
   "metadata": {
    "scrolled": true
   },
   "outputs": [
    {
     "name": "stderr",
     "output_type": "stream",
     "text": [
      "Using TensorFlow backend.\n"
     ]
    }
   ],
   "source": [
    "%load_ext autoreload\n",
    "%autoreload 2\n",
    "%matplotlib inline\n",
    "\n",
    "#Import Libraries\n",
    "import tensorflow as tf\n",
    "import numpy as np\n",
    "import math\n",
    "import os\n",
    "import matplotlib\n",
    "import matplotlib.pyplot as plt\n",
    "import datetime\n",
    "import time\n",
    "\n",
    "import keras\n",
    "from keras.models import Sequential\n",
    "from keras.models import load_model\n",
    "from keras.layers import Dense\n",
    "from keras.layers import LSTM\n",
    "from keras.utils.vis_utils import plot_model\n",
    "\n",
    "from sklearn.metrics import recall_score, precision_score\n",
    "from models import save_model, generate_model_CNN, plot_performance\n",
    "from generators import generator, decode, decode2"
   ]
  },
  {
   "cell_type": "code",
   "execution_count": 2,
   "metadata": {
    "scrolled": true
   },
   "outputs": [],
   "source": [
    "save_dir = 'plots'\n",
    "if not os.path.exists(save_dir):\n",
    "        os.makedirs(save_dir)\n",
    "\n",
    "X_load = np.load('../data/processed_data/m4015_session2/X.npy')\n",
    "Y_load = np.load('../data/processed_data/m4015_session2/y.npy')\n",
    "\n",
    "res = tf.one_hot(Y_load, depth=2)\n",
    "with tf.Session() as sess:\n",
    "    Y_load = (sess.run(res))\n",
    "\n",
    "split_index = int(X_load.shape[0]*0.8)\n",
    "    \n",
    "X_train = X_load[:split_index]\n",
    "Y_train = Y_load[:split_index]\n",
    "X_val = X_load[split_index:]\n",
    "Y_val = Y_load[split_index:]"
   ]
  },
  {
   "cell_type": "code",
   "execution_count": 3,
   "metadata": {},
   "outputs": [],
   "source": [
    "batch_size = 1000\n",
    "time_window = 50\n",
    "n_dim = 1\n",
    "class_weight = {0: 1., 1: 100.,}\n",
    "predict_early = 0\n",
    "\n",
    "input_shape = (time_window, n_dim)"
   ]
  },
  {
   "cell_type": "code",
   "execution_count": 4,
   "metadata": {},
   "outputs": [],
   "source": [
    "train_generator = generator(X_train, Y_train, batch_size, time_window, predict_early=predict_early)\n",
    "validate_generator = generator(X_val, Y_val, batch_size, time_window, predict_early=predict_early)"
   ]
  },
  {
   "cell_type": "code",
   "execution_count": 5,
   "metadata": {
    "scrolled": false
   },
   "outputs": [
    {
     "name": "stdout",
     "output_type": "stream",
     "text": [
      "_________________________________________________________________\n",
      "Layer (type)                 Output Shape              Param #   \n",
      "=================================================================\n",
      "input_1 (InputLayer)         (None, 50, 1)             0         \n",
      "_________________________________________________________________\n",
      "conv1d_1 (Conv1D)            (None, 50, 6)             48        \n",
      "_________________________________________________________________\n",
      "average_pooling1d_1 (Average (None, 25, 6)             0         \n",
      "_________________________________________________________________\n",
      "conv1d_2 (Conv1D)            (None, 25, 12)            516       \n",
      "_________________________________________________________________\n",
      "average_pooling1d_2 (Average (None, 12, 12)            0         \n",
      "_________________________________________________________________\n",
      "conv1d_3 (Conv1D)            (None, 12, 12)            1020      \n",
      "_________________________________________________________________\n",
      "average_pooling1d_3 (Average (None, 6, 12)             0         \n",
      "_________________________________________________________________\n",
      "flatten_1 (Flatten)          (None, 72)                0         \n",
      "_________________________________________________________________\n",
      "dense_1 (Dense)              (None, 200)               14600     \n",
      "_________________________________________________________________\n",
      "dense_2 (Dense)              (None, 2)                 402       \n",
      "=================================================================\n",
      "Total params: 16,586\n",
      "Trainable params: 16,586\n",
      "Non-trainable params: 0\n",
      "_________________________________________________________________\n",
      "None\n"
     ]
    }
   ],
   "source": [
    "model = generate_model_CNN(input_shape)\n",
    "\n",
    "print(model.summary())"
   ]
  },
  {
   "cell_type": "code",
   "execution_count": 6,
   "metadata": {
    "scrolled": true
   },
   "outputs": [
    {
     "name": "stdout",
     "output_type": "stream",
     "text": [
      "Epoch 1/10\n",
      "1000/1000 [==============================] - 78s 78ms/step - loss: 0.4977 - acc: 0.9584 - val_loss: 0.0748 - val_acc: 0.9789\n",
      "Epoch 2/10\n",
      "1000/1000 [==============================] - 107s 107ms/step - loss: 0.3643 - acc: 0.9532 - val_loss: 0.0525 - val_acc: 0.9809\n",
      "Epoch 3/10\n",
      "1000/1000 [==============================] - 112s 112ms/step - loss: 0.3288 - acc: 0.9569 - val_loss: 0.0891 - val_acc: 0.9743\n",
      "Epoch 4/10\n",
      "1000/1000 [==============================] - 121s 121ms/step - loss: 0.3525 - acc: 0.9572 - val_loss: 0.0635 - val_acc: 0.9778\n",
      "Epoch 5/10\n",
      "1000/1000 [==============================] - 118s 118ms/step - loss: 0.3097 - acc: 0.9584 - val_loss: 0.0571 - val_acc: 0.9806\n",
      "Epoch 6/10\n",
      "1000/1000 [==============================] - 106s 106ms/step - loss: 0.3210 - acc: 0.9585 - val_loss: 0.0767 - val_acc: 0.9747\n",
      "Epoch 7/10\n",
      "1000/1000 [==============================] - 118s 118ms/step - loss: 0.3131 - acc: 0.9580 - val_loss: 0.0361 - val_acc: 0.9873\n",
      "Epoch 8/10\n",
      "1000/1000 [==============================] - 109s 109ms/step - loss: 0.3112 - acc: 0.9631 - val_loss: 0.0864 - val_acc: 0.9719\n",
      "Epoch 9/10\n",
      "1000/1000 [==============================] - 107s 107ms/step - loss: 0.3152 - acc: 0.9626 - val_loss: 0.1817 - val_acc: 0.9475\n",
      "Epoch 10/10\n",
      "1000/1000 [==============================] - 107s 107ms/step - loss: 0.2990 - acc: 0.9614 - val_loss: 0.0557 - val_acc: 0.9790\n"
     ]
    }
   ],
   "source": [
    "history = model.fit_generator(train_generator,\n",
    "                              steps_per_epoch=1000,\n",
    "                              epochs=10, \n",
    "                              verbose=1,\n",
    "                              validation_data=validate_generator,\n",
    "                              validation_steps=1000,\n",
    "                              class_weight=class_weight, )\n",
    "\n",
    "save_model(model, name=predict_early)"
   ]
  },
  {
   "cell_type": "code",
   "execution_count": 7,
   "metadata": {
    "scrolled": false
   },
   "outputs": [
    {
     "data": {
      "image/png": "[encoded data removed]",
      "text/plain": [
       "<Figure size 432x288 with 1 Axes>"
      ]
     },
     "metadata": {
      "needs_background": "light"
     },
     "output_type": "display_data"
    },
    {
     "data": {
      "image/png": "[encoded data removed]",
      "text/plain": [
       "<Figure size 432x288 with 1 Axes>"
      ]
     },
     "metadata": {
      "needs_background": "light"
     },
     "output_type": "display_data"
    }
   ],
   "source": [
    "plot_performance(history)"
   ]
  },
  {
   "cell_type": "code",
   "execution_count": 8,
   "metadata": {
    "scrolled": true
   },
   "outputs": [],
   "source": [
    "validate_generator = generator(X_val, Y_val, batch_size*10, time_window)\n",
    "\n",
    "X_trial, y_trial, = next(validate_generator)\n",
    "res = model.predict(X_trial)"
   ]
  },
  {
   "cell_type": "code",
   "execution_count": 9,
   "metadata": {
    "scrolled": true
   },
   "outputs": [],
   "source": [
    "y_true = decode(y_trial)\n",
    "y_pred = decode(res)\n",
    "\n",
    "weights = np.zeros_like(y_true)\n",
    "weights[y_true==0] = 1\n",
    "weights[y_true==1] = 100\n"
   ]
  },
  {
   "cell_type": "code",
   "execution_count": 10,
   "metadata": {
    "scrolled": true
   },
   "outputs": [
    {
     "name": "stdout",
     "output_type": "stream",
     "text": [
      "0.0\n",
      "0.9965\n",
      "              precision    recall  f1-score   support\n",
      "\n",
      "   no ripple       1.00      1.00      1.00      9965\n",
      "      ripple       0.00      0.00      0.00        35\n",
      "\n",
      "   micro avg       1.00      1.00      1.00     10000\n",
      "   macro avg       0.50      0.50      0.50     10000\n",
      "weighted avg       0.99      1.00      0.99     10000\n",
      "\n"
     ]
    },
    {
     "name": "stderr",
     "output_type": "stream",
     "text": [
      "/Users/astasik/anaconda3/envs/machine/lib/python3.6/site-packages/sklearn/metrics/classification.py:1143: UndefinedMetricWarning: Precision and F-score are ill-defined and being set to 0.0 in labels with no predicted samples.\n",
      "  'precision', 'predicted', average, warn_for)\n"
     ]
    }
   ],
   "source": [
    "from sklearn.metrics import balanced_accuracy_score, recall_score, classification_report, confusion_matrix\n",
    "\n",
    "print(balanced_accuracy_score(y_true, y_pred, adjusted=True))\n",
    "print(recall_score(y_true, y_pred, average='weighted'))\n",
    "\n",
    "target_names = ['no ripple', 'ripple',]\n",
    "print(classification_report(y_true, y_pred, target_names=target_names))"
   ]
  },
  {
   "cell_type": "code",
   "execution_count": 11,
   "metadata": {
    "scrolled": true
   },
   "outputs": [
    {
     "name": "stdout",
     "output_type": "stream",
     "text": [
      "[[9965    0]\n",
      " [  35    0]]\n",
      "[[1. 0.]\n",
      " [1. 0.]]\n"
     ]
    }
   ],
   "source": [
    "conv_matrix = confusion_matrix(y_true, y_pred)\n",
    "print(conv_matrix)\n",
    "conv_matrix = conv_matrix.astype('float') / conv_matrix.sum(axis=1)[:, np.newaxis]\n",
    "print(conv_matrix)"
   ]
  },
  {
   "cell_type": "code",
   "execution_count": null,
   "metadata": {
    "scrolled": true
   },
   "outputs": [],
   "source": []
  },
  {
   "cell_type": "code",
   "execution_count": 12,
   "metadata": {
    "scrolled": true
   },
   "outputs": [],
   "source": [
    "# from sklearn.model_selection import TimeSeriesSplit\n",
    "# tscv = TimeSeriesSplit(n_splits=5)\n",
    "# for train_index, test_index in tscv.split(X):\n",
    "#     print(\"TRAIN:\", train_index, \"TEST:\", test_index)"
   ]
  },
  {
   "cell_type": "code",
   "execution_count": null,
   "metadata": {},
   "outputs": [],
   "source": []
  }
 ],
 "metadata": {
  "kernelspec": {
   "display_name": "Python 3",
   "language": "python",
   "name": "python3"
  },
  "language_info": {
   "codemirror_mode": {
    "name": "ipython",
    "version": 3
   },
   "file_extension": ".py",
   "mimetype": "text/x-python",
   "name": "python",
   "nbconvert_exporter": "python",
   "pygments_lexer": "ipython3",
   "version": "3.6.8"
  }
 },
 "nbformat": 4,
 "nbformat_minor": 2
}
