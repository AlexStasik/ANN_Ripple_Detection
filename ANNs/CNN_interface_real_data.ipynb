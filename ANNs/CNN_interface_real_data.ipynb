{
 "cells": [
  {
   "cell_type": "code",
   "execution_count": null,
   "metadata": {},
   "outputs": [],
   "source": [
    "%matplotlib notebook\n",
    "\n",
    "%load_ext autoreload\n",
    "%autoreload 2\n",
    "\n",
    "#Import Libraries\n",
    "import tensorflow as tf\n",
    "import numpy as np\n",
    "import math\n",
    "import os\n",
    "import matplotlib\n",
    "import matplotlib.pyplot as plt\n",
    "import datetime\n",
    "import time\n",
    "\n",
    "import keras\n",
    "from keras.models import Sequential\n",
    "from keras.models import load_model\n",
    "from keras.layers import Dense\n",
    "from keras.layers import LSTM\n",
    "from keras.utils.vis_utils import plot_model\n",
    "\n",
    "from sklearn.metrics import recall_score, precision_score\n",
    "from models import save_model, generate_model_CNN, plot_performance\n",
    "from generators import generator, decode"
   ]
  },
  {
   "cell_type": "code",
   "execution_count": null,
   "metadata": {},
   "outputs": [],
   "source": [
    "X_load = np.load('../data/processed_data/m4015_session2/X_serial.npy')\n",
    "Y_load = np.load('../data/processed_data/m4015_session2/y_serial.npy')\n",
    "\n",
    "res = tf.one_hot(Y_load, depth=2)\n",
    "with tf.Session() as sess:\n",
    "    Y_load = (sess.run(res))\n",
    "\n",
    "split_index = int(X_load.shape[0]*0.8)\n",
    "    \n",
    "X_train = X_load[:split_index]\n",
    "Y_train = Y_load[:split_index]\n",
    "X_val = X_load[split_index:]\n",
    "Y_val = Y_load[split_index:]\n",
    "\n",
    "\n",
    "class_weight = {0: 1., 1: 50.,}\n",
    "predict_early = 50"
   ]
  },
  {
   "cell_type": "code",
   "execution_count": null,
   "metadata": {},
   "outputs": [],
   "source": [
    "plt.figure()\n",
    "plt.plot(X_load)\n",
    "plt.plot(np.argmax(Y_load, axis=1))\n",
    "plt.show()"
   ]
  },
  {
   "cell_type": "code",
   "execution_count": null,
   "metadata": {},
   "outputs": [],
   "source": [
    "batch_size = 1000\n",
    "n_hidden = 100\n",
    "n_dim = 1\n",
    "input_shape = (n_hidden, n_dim)\n",
    "\n",
    "\n",
    "model = generate_model_CNN(input_shape)\n",
    "\n",
    "print(model.summary())"
   ]
  },
  {
   "cell_type": "code",
   "execution_count": null,
   "metadata": {},
   "outputs": [],
   "source": [
    "train_generator = generator(X_train, Y_train, batch_size, n_hidden, predict_early=predict_early)\n",
    "validate_generator = generator(X_val, Y_val, batch_size, n_hidden, predict_early=predict_early)\n",
    "\n",
    "history = model.fit_generator(train_generator,\n",
    "                              steps_per_epoch=1000,\n",
    "                              epochs=20, \n",
    "                              verbose=1,\n",
    "                              validation_data=validate_generator,\n",
    "                              validation_steps=1000,\n",
    "                              class_weight=class_weight, )\n",
    "\n",
    "save_model(model, name=predict_early)"
   ]
  },
  {
   "cell_type": "code",
   "execution_count": null,
   "metadata": {},
   "outputs": [],
   "source": [
    "plot_performance(history)"
   ]
  },
  {
   "cell_type": "code",
   "execution_count": null,
   "metadata": {},
   "outputs": [],
   "source": [
    "%load_ext autoreload\n",
    "%autoreload 2\n",
    "%matplotlib inline\n",
    "\n",
    "from models import make_accuracy_matrix_plot"
   ]
  },
  {
   "cell_type": "code",
   "execution_count": null,
   "metadata": {},
   "outputs": [],
   "source": [
    "validate_generator = generator(X_val, Y_val, batch_size*10, n_hidden)\n",
    "\n",
    "# make_accuracy_matrix_plot(model, validate_generator)\n",
    "make_accuracy_matrix_plot(model, validate_generator, ref='est')"
   ]
  },
  {
   "cell_type": "code",
   "execution_count": null,
   "metadata": {},
   "outputs": [],
   "source": [
    "save_dir = 'plots'\n",
    "if not os.path.exists(save_dir):\n",
    "        os.makedirs(save_dir)\n",
    "\n",
    "second_dir = 'simple'\n",
    "save_dir = os.path.join(save_dir, second_dir)  \n",
    "if not os.path.exists(save_dir):\n",
    "        os.makedirs(save_dir)\n",
    "\n",
    "\n"
   ]
  },
  {
   "cell_type": "code",
   "execution_count": null,
   "metadata": {},
   "outputs": [],
   "source": [
    "X = X_val\n",
    "y = np.argmax(Y_val, axis=1)\n",
    "t = np.arange(X.shape[0])\n",
    "\n",
    "n_slices = X.shape[0] - n_hidden\n",
    "\n",
    "all_y = np.zeros((n_slices, 2))\n",
    "\n",
    "for i in range(n_slices):\n",
    "    x_input = np.reshape(X[i:i+n_hidden], (1, n_hidden, 1))\n",
    "    all_y[i] = model.predict(x_input)\n",
    "    \n"
   ]
  },
  {
   "cell_type": "code",
   "execution_count": null,
   "metadata": {},
   "outputs": [],
   "source": [
    "y_pred_int = np.argmax(all_y, axis=1)\n",
    "\n",
    "mask = all_y[:,1]>0.99\n",
    "y_pred_int = np.array(mask, dtype=int)\n",
    "\n",
    "y_res = np.zeros_like(t)\n",
    "y_res[int(n_hidden/2):int(-n_hidden/2)] = y_pred_int"
   ]
  },
  {
   "cell_type": "code",
   "execution_count": null,
   "metadata": {},
   "outputs": [],
   "source": [
    "y_scale = np.zeros_like(t)\n",
    "y_scale[int(n_hidden/2):int(-n_hidden/2)] = all_y[:,1]\n",
    "\n",
    "y.shape, y_scale.shape"
   ]
  },
  {
   "cell_type": "code",
   "execution_count": null,
   "metadata": {},
   "outputs": [],
   "source": [
    "%matplotlib notebook\n",
    "\n",
    "plt.figure()\n",
    "plt.plot(t, X, label='LFP')\n",
    "plt.plot(t, y-3, alpha=0.5, label='manual scoring')\n",
    "plt.plot(t, y_res-2, alpha=0.5, label='CNN')\n",
    "plt.plot(t, y_scale)\n",
    "plt.xlim(150000, None)\n",
    "plt.ylim(None, 1)\n",
    "plt.legend(framealpha=0)\n",
    "plt.savefig('plots/nice.pdf')\n",
    "plt.show()"
   ]
  },
  {
   "cell_type": "code",
   "execution_count": null,
   "metadata": {},
   "outputs": [],
   "source": [
    "y_scale[int(n_hidden/2):int(-n_hidden/2)] = all_y[:,1]"
   ]
  },
  {
   "cell_type": "code",
   "execution_count": null,
   "metadata": {},
   "outputs": [],
   "source": [
    "y_scale[int(n_hidden/2):int(-n_hidden/2)]"
   ]
  },
  {
   "cell_type": "code",
   "execution_count": null,
   "metadata": {},
   "outputs": [],
   "source": [
    "plt.figure()\n",
    "plt.hist(all_y[:,1], bins=100, cumulative=-1, density=True)\n",
    "plt.show()"
   ]
  },
  {
   "cell_type": "code",
   "execution_count": null,
   "metadata": {},
   "outputs": [],
   "source": [
    "all_y"
   ]
  },
  {
   "cell_type": "code",
   "execution_count": null,
   "metadata": {},
   "outputs": [],
   "source": []
  },
  {
   "cell_type": "code",
   "execution_count": null,
   "metadata": {},
   "outputs": [],
   "source": [
    "X_load = np.load('../data/processed_data/m4015_session2/X_serial.npy')\n",
    "Y_load = np.load('../data/processed_data/m4015_session2/y_serial.npy')"
   ]
  },
  {
   "cell_type": "code",
   "execution_count": null,
   "metadata": {},
   "outputs": [],
   "source": [
    "X_load.shape"
   ]
  },
  {
   "cell_type": "code",
   "execution_count": null,
   "metadata": {},
   "outputs": [],
   "source": [
    "Y_load.shape"
   ]
  },
  {
   "cell_type": "code",
   "execution_count": null,
   "metadata": {},
   "outputs": [],
   "source": [
    "plt.figure()\n",
    "plt.plot(Y_load)\n",
    "plt.show()"
   ]
  },
  {
   "cell_type": "code",
   "execution_count": null,
   "metadata": {},
   "outputs": [],
   "source": []
  }
 ],
 "metadata": {
  "kernelspec": {
   "display_name": "Python 3",
   "language": "python",
   "name": "python3"
  },
  "language_info": {
   "codemirror_mode": {
    "name": "ipython",
    "version": 3
   },
   "file_extension": ".py",
   "mimetype": "text/x-python",
   "name": "python",
   "nbconvert_exporter": "python",
   "pygments_lexer": "ipython3",
   "version": "3.6.8"
  }
 },
 "nbformat": 4,
 "nbformat_minor": 2
}
