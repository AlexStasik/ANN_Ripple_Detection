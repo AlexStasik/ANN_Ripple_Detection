{
 "cells": [
  {
   "cell_type": "code",
   "execution_count": 1,
   "metadata": {
    "scrolled": true
   },
   "outputs": [
    {
     "name": "stderr",
     "output_type": "stream",
     "text": [
      "/Users/astasik/anaconda3/envs/machine/lib/python3.6/importlib/_bootstrap.py:219: RuntimeWarning: numpy.dtype size changed, may indicate binary incompatibility. Expected 88 from C header, got 96 from PyObject\n",
      "  return f(*args, **kwds)\n",
      "Using TensorFlow backend.\n"
     ]
    }
   ],
   "source": [
    "%load_ext autoreload\n",
    "%autoreload 2\n",
    "%matplotlib notebook\n",
    "\n",
    "#Import Libraries\n",
    "import tensorflow as tf\n",
    "import numpy as np\n",
    "import math\n",
    "import os\n",
    "import matplotlib\n",
    "import matplotlib.pyplot as plt\n",
    "import datetime\n",
    "import time\n",
    "\n",
    "import keras\n",
    "from keras.models import Sequential\n",
    "from keras.models import load_model\n",
    "from keras.layers import Dense\n",
    "from keras.layers import LSTM\n",
    "from keras.utils.vis_utils import plot_model\n",
    "\n",
    "from sklearn.metrics import recall_score, precision_score\n",
    "from sklearn.preprocessing import OneHotEncoder, OrdinalEncoder, LabelEncoder\n",
    "from models import save_model, generate_model_CNN, generate_model_LSTM, plot_performance\n",
    "from generators import generator, decode"
   ]
  },
  {
   "cell_type": "code",
   "execution_count": 2,
   "metadata": {
    "scrolled": true
   },
   "outputs": [],
   "source": [
    "save_dir = 'plots'\n",
    "if not os.path.exists(save_dir):\n",
    "        os.makedirs(save_dir)\n",
    "\n",
    "X_train = np.load('../data/X_train.npy')\n",
    "Y_train = np.load('../data/y_train.npy')\n",
    "\n",
    "\n",
    "X_val = np.load('../data/processed_data/m4021_session1/X.npy')\n",
    "Y_val = np.load('../data/processed_data/m4021_session1/y_all.npy')"
   ]
  },
  {
   "cell_type": "code",
   "execution_count": 3,
   "metadata": {},
   "outputs": [],
   "source": [
    "batch_size = 500\n",
    "time_window = 500\n",
    "n_dim = 1\n",
    "predict_early = 0\n",
    "\n",
    "input_shape = (time_window, n_dim)"
   ]
  },
  {
   "cell_type": "code",
   "execution_count": 4,
   "metadata": {},
   "outputs": [],
   "source": [
    "train_generator = generator(X_train, Y_train, batch_size, time_window)\n",
    "validate_generator = generator(X_val, Y_val, batch_size, time_window)"
   ]
  },
  {
   "cell_type": "code",
   "execution_count": 5,
   "metadata": {},
   "outputs": [
    {
     "name": "stdout",
     "output_type": "stream",
     "text": [
      "_________________________________________________________________\n",
      "Layer (type)                 Output Shape              Param #   \n",
      "=================================================================\n",
      "input_1 (InputLayer)         (None, 500, 1)            0         \n",
      "_________________________________________________________________\n",
      "conv1d_1 (Conv1D)            (None, 500, 10)           80        \n",
      "_________________________________________________________________\n",
      "average_pooling1d_1 (Average (None, 250, 10)           0         \n",
      "_________________________________________________________________\n",
      "batch_normalization_1 (Batch (None, 250, 10)           40        \n",
      "_________________________________________________________________\n",
      "gaussian_noise_1 (GaussianNo (None, 250, 10)           0         \n",
      "_________________________________________________________________\n",
      "conv1d_2 (Conv1D)            (None, 250, 10)           710       \n",
      "_________________________________________________________________\n",
      "average_pooling1d_2 (Average (None, 125, 10)           0         \n",
      "_________________________________________________________________\n",
      "batch_normalization_2 (Batch (None, 125, 10)           40        \n",
      "_________________________________________________________________\n",
      "gaussian_noise_2 (GaussianNo (None, 125, 10)           0         \n",
      "_________________________________________________________________\n",
      "conv1d_3 (Conv1D)            (None, 125, 10)           710       \n",
      "_________________________________________________________________\n",
      "average_pooling1d_3 (Average (None, 62, 10)            0         \n",
      "_________________________________________________________________\n",
      "batch_normalization_3 (Batch (None, 62, 10)            40        \n",
      "_________________________________________________________________\n",
      "gaussian_noise_3 (GaussianNo (None, 62, 10)            0         \n",
      "_________________________________________________________________\n",
      "flatten_1 (Flatten)          (None, 620)               0         \n",
      "_________________________________________________________________\n",
      "batch_normalization_4 (Batch (None, 620)               2480      \n",
      "_________________________________________________________________\n",
      "dense_1 (Dense)              (None, 50)                31050     \n",
      "_________________________________________________________________\n",
      "batch_normalization_5 (Batch (None, 50)                200       \n",
      "_________________________________________________________________\n",
      "dense_2 (Dense)              (None, 2)                 102       \n",
      "=================================================================\n",
      "Total params: 35,452\n",
      "Trainable params: 34,052\n",
      "Non-trainable params: 1,400\n",
      "_________________________________________________________________\n",
      "None\n"
     ]
    }
   ],
   "source": [
    "model = generate_model_CNN(input_shape)\n",
    "\n",
    "print(model.summary())\n",
    "\n",
    "\n",
    "# input_shape = (None, n_dim)\n",
    "# model = generate_model_LSTM(input_shape)\n",
    "\n",
    "# print(model.summary())"
   ]
  },
  {
   "cell_type": "code",
   "execution_count": null,
   "metadata": {},
   "outputs": [
    {
     "name": "stdout",
     "output_type": "stream",
     "text": [
      "Epoch 1/150\n",
      "10/10 [==============================] - 10s 994ms/step - loss: 0.8534 - acc: 0.5620 - val_loss: 0.6623 - val_acc: 0.6672\n",
      "Epoch 2/150\n",
      "10/10 [==============================] - 4s 416ms/step - loss: 0.6773 - acc: 0.6192 - val_loss: 0.8987 - val_acc: 0.5292\n",
      "Epoch 3/150\n",
      "10/10 [==============================] - 5s 538ms/step - loss: 0.5708 - acc: 0.7060 - val_loss: 1.3982 - val_acc: 0.4852\n",
      "Epoch 4/150\n",
      "10/10 [==============================] - 5s 491ms/step - loss: 0.5264 - acc: 0.7468 - val_loss: 0.7576 - val_acc: 0.7466\n",
      "Epoch 5/150\n",
      "10/10 [==============================] - 6s 643ms/step - loss: 0.5028 - acc: 0.7634 - val_loss: 1.3987 - val_acc: 0.6648\n",
      "Epoch 6/150\n",
      "10/10 [==============================] - 6s 649ms/step - loss: 0.4958 - acc: 0.7762 - val_loss: 1.7027 - val_acc: 0.6430\n",
      "Epoch 7/150\n",
      "10/10 [==============================] - 6s 648ms/step - loss: 0.4683 - acc: 0.7824 - val_loss: 1.2244 - val_acc: 0.6698\n",
      "Epoch 8/150\n",
      "10/10 [==============================] - 7s 688ms/step - loss: 0.4822 - acc: 0.7882 - val_loss: 0.9678 - val_acc: 0.7166\n",
      "Epoch 9/150\n",
      "10/10 [==============================] - 7s 733ms/step - loss: 0.4634 - acc: 0.7856 - val_loss: 0.9254 - val_acc: 0.7502\n",
      "Epoch 10/150\n",
      "10/10 [==============================] - 7s 693ms/step - loss: 0.4566 - acc: 0.7974 - val_loss: 0.7687 - val_acc: 0.7564\n",
      "Epoch 11/150\n",
      "10/10 [==============================] - 6s 619ms/step - loss: 0.4423 - acc: 0.8126 - val_loss: 0.7412 - val_acc: 0.7604\n",
      "Epoch 12/150\n",
      "10/10 [==============================] - 8s 802ms/step - loss: 0.4482 - acc: 0.7944 - val_loss: 0.7809 - val_acc: 0.7478\n",
      "Epoch 13/150\n",
      "10/10 [==============================] - 8s 804ms/step - loss: 0.4607 - acc: 0.7910 - val_loss: 0.7181 - val_acc: 0.7362\n",
      "Epoch 14/150\n",
      "10/10 [==============================] - 6s 630ms/step - loss: 0.4386 - acc: 0.8062 - val_loss: 0.7129 - val_acc: 0.7524\n",
      "Epoch 15/150\n",
      "10/10 [==============================] - 7s 653ms/step - loss: 0.4404 - acc: 0.8110 - val_loss: 0.7840 - val_acc: 0.7364\n",
      "Epoch 16/150\n",
      "10/10 [==============================] - 5s 489ms/step - loss: 0.4211 - acc: 0.8092 - val_loss: 0.8114 - val_acc: 0.7194\n",
      "Epoch 17/150\n",
      "10/10 [==============================] - 7s 658ms/step - loss: 0.4508 - acc: 0.7970 - val_loss: 0.7526 - val_acc: 0.6998\n",
      "Epoch 18/150\n",
      "10/10 [==============================] - 9s 894ms/step - loss: 0.4204 - acc: 0.8102 - val_loss: 0.7035 - val_acc: 0.7320\n",
      "Epoch 19/150\n",
      "10/10 [==============================] - 6s 554ms/step - loss: 0.4201 - acc: 0.8082 - val_loss: 0.8036 - val_acc: 0.7042\n",
      "Epoch 20/150\n",
      " 3/10 [========>.....................] - ETA: 2s - loss: 0.4211 - acc: 0.8033"
     ]
    }
   ],
   "source": [
    "history = model.fit_generator(train_generator,\n",
    "                              steps_per_epoch=10,\n",
    "                              epochs=150, \n",
    "                              verbose=1,\n",
    "                              validation_data=validate_generator,\n",
    "                              validation_steps=10,\n",
    "                              )\n",
    "\n",
    "save_model(model, name=predict_early)"
   ]
  },
  {
   "cell_type": "code",
   "execution_count": null,
   "metadata": {},
   "outputs": [],
   "source": [
    "plot_performance(history)"
   ]
  },
  {
   "cell_type": "code",
   "execution_count": null,
   "metadata": {},
   "outputs": [],
   "source": []
  }
 ],
 "metadata": {
  "kernelspec": {
   "display_name": "Python 3",
   "language": "python",
   "name": "python3"
  },
  "language_info": {
   "codemirror_mode": {
    "name": "ipython",
    "version": 3
   },
   "file_extension": ".py",
   "mimetype": "text/x-python",
   "name": "python",
   "nbconvert_exporter": "python",
   "pygments_lexer": "ipython3",
   "version": "3.6.7"
  }
 },
 "nbformat": 4,
 "nbformat_minor": 2
}
