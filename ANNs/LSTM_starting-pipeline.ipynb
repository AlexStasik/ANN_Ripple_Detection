{
 "cells": [
  {
   "cell_type": "code",
   "execution_count": 1,
   "metadata": {},
   "outputs": [
    {
     "name": "stderr",
     "output_type": "stream",
     "text": [
      "Using TensorFlow backend.\n"
     ]
    }
   ],
   "source": [
    "%matplotlib inline\n",
    "\n",
    "#Import Libraries\n",
    "import tensorflow as tf\n",
    "import numpy as np\n",
    "import math\n",
    "import os\n",
    "import matplotlib\n",
    "import matplotlib.pyplot as plt\n",
    "import datetime\n",
    "import time\n",
    "\n",
    "import keras\n",
    "from keras.models import Sequential\n",
    "from keras.models import load_model\n",
    "from keras.layers import Dense\n",
    "from keras.layers import LSTM\n",
    "from keras.utils.vis_utils import plot_model\n",
    "\n",
    "\n"
   ]
  },
  {
   "cell_type": "markdown",
   "metadata": {},
   "source": [
    "# Load and prepare the data"
   ]
  },
  {
   "cell_type": "code",
   "execution_count": 2,
   "metadata": {},
   "outputs": [],
   "source": [
    "X_load = np.load('../data/fake_data/X.npy')\n",
    "Y_load = np.load('../data/fake_data/Y.npy')\n",
    "\n",
    "n_hidden=100"
   ]
  },
  {
   "cell_type": "code",
   "execution_count": 3,
   "metadata": {},
   "outputs": [
    {
     "name": "stdout",
     "output_type": "stream",
     "text": [
      "0.1801\n"
     ]
    }
   ],
   "source": [
    "print(np.sum(Y_load) / len(Y_load))"
   ]
  },
  {
   "cell_type": "code",
   "execution_count": 4,
   "metadata": {},
   "outputs": [],
   "source": [
    "res = tf.one_hot(Y_load, depth=2)\n",
    "with tf.Session() as sess:\n",
    "    Y_load = (sess.run(res))"
   ]
  },
  {
   "cell_type": "code",
   "execution_count": 5,
   "metadata": {},
   "outputs": [],
   "source": [
    "def save_model(model, save_dir='models'):\n",
    "    if not os.path.exists(save_dir):\n",
    "        os.makedirs(save_dir)\n",
    "    t = time.strftime(\"%Y%m%d-%H:%M:%S\")\n",
    "    path = os.path.join(save_dir, t+'.h5')  \n",
    "    model.save(path)\n",
    "\n",
    "    \n",
    "def generator(X, y, batch_size, lookback):\n",
    "    batch_features = np.zeros((batch_size, lookback, 1))\n",
    "    batch_labels = np.zeros((batch_size, lookback, 2))\n",
    "    batch_weights = np.zeros((batch_size, lookback))\n",
    "    while True:\n",
    "        for i in range(batch_size):\n",
    "            index = np.random.randint(0, X.shape[0]-lookback)\n",
    "            a = X[index:index+lookback]\n",
    "            batch_features[i] = np.reshape(a, (a.shape[0], -1))\n",
    "            batch_labels[i] = y[index:index+lookback]\n",
    "            batch_weights[i] = y[index:index+lookback,0]*1. + y[index:index+lookback,1]*5\n",
    "        yield batch_features, batch_labels, batch_weights"
   ]
  },
  {
   "cell_type": "code",
   "execution_count": 9,
   "metadata": {},
   "outputs": [],
   "source": [
    "train_generator = generator(X_load[:90000], Y_load[:90000,:], 100, n_hidden)\n",
    "validate_generator = generator(X_load[90000:], Y_load[90000:,:], 100, n_hidden)"
   ]
  },
  {
   "cell_type": "code",
   "execution_count": null,
   "metadata": {},
   "outputs": [],
   "source": []
  },
  {
   "cell_type": "code",
   "execution_count": null,
   "metadata": {},
   "outputs": [],
   "source": []
  },
  {
   "cell_type": "code",
   "execution_count": null,
   "metadata": {},
   "outputs": [],
   "source": []
  },
  {
   "cell_type": "code",
   "execution_count": 10,
   "metadata": {},
   "outputs": [
    {
     "name": "stdout",
     "output_type": "stream",
     "text": [
      "_________________________________________________________________\n",
      "Layer (type)                 Output Shape              Param #   \n",
      "=================================================================\n",
      "input_1 (InputLayer)         (None, None, 1)           0         \n",
      "_________________________________________________________________\n",
      "lstm_1 (LSTM)                (None, None, 100)         40800     \n",
      "_________________________________________________________________\n",
      "dense_1 (Dense)              (None, None, 2)           202       \n",
      "=================================================================\n",
      "Total params: 41,002\n",
      "Trainable params: 41,002\n",
      "Non-trainable params: 0\n",
      "_________________________________________________________________\n",
      "None\n"
     ]
    }
   ],
   "source": [
    "n_dim = 1\n",
    "input_shape = (None,n_dim)\n",
    "batch_size = n_hidden\n",
    "\n",
    "keras.backend.clear_session()\n",
    "inputs = keras.layers.Input(shape=input_shape)\n",
    "\n",
    "x = keras.layers.LSTM(100, activation='tanh', return_sequences=True)(inputs)\n",
    "predictions = keras.layers.Dense(2, activation='softmax')(x)\n",
    "\n",
    "model = keras.models.Model(inputs=inputs, outputs=predictions)\n",
    "model.compile(loss=['categorical_crossentropy'],\n",
    "              optimizer=keras.optimizers.Adam(lr=0.01),\n",
    "              metrics=['accuracy'],\n",
    "              sample_weight_mode='temporal')\n",
    "\n",
    "\n",
    "print(model.summary())"
   ]
  },
  {
   "cell_type": "code",
   "execution_count": 11,
   "metadata": {
    "scrolled": true
   },
   "outputs": [
    {
     "name": "stdout",
     "output_type": "stream",
     "text": [
      "Epoch 1/20\n",
      "100/100 [==============================] - 24s 242ms/step - loss: 0.4816 - acc: 0.8850 - val_loss: 0.3206 - val_acc: 0.9321\n",
      "Epoch 2/20\n",
      "100/100 [==============================] - 22s 222ms/step - loss: 0.2379 - acc: 0.9448 - val_loss: 0.1981 - val_acc: 0.9539\n",
      "Epoch 3/20\n",
      "100/100 [==============================] - 24s 242ms/step - loss: 0.2598 - acc: 0.9442 - val_loss: 0.2017 - val_acc: 0.9505\n",
      "Epoch 4/20\n",
      "100/100 [==============================] - 22s 220ms/step - loss: 0.2420 - acc: 0.9474 - val_loss: 0.1998 - val_acc: 0.9491\n",
      "Epoch 5/20\n",
      "100/100 [==============================] - 23s 228ms/step - loss: 0.2446 - acc: 0.9467 - val_loss: 0.2022 - val_acc: 0.9495\n",
      "Epoch 6/20\n",
      "100/100 [==============================] - 23s 226ms/step - loss: 0.2148 - acc: 0.9497 - val_loss: 0.1999 - val_acc: 0.9536\n",
      "Epoch 7/20\n",
      "100/100 [==============================] - 24s 235ms/step - loss: 0.2191 - acc: 0.9508 - val_loss: 0.2165 - val_acc: 0.9406\n",
      "Epoch 8/20\n",
      "100/100 [==============================] - 22s 219ms/step - loss: 0.2272 - acc: 0.9492 - val_loss: 0.2100 - val_acc: 0.9506\n",
      "Epoch 9/20\n",
      "100/100 [==============================] - 24s 238ms/step - loss: 0.2125 - acc: 0.9520 - val_loss: 0.2119 - val_acc: 0.9487\n",
      "Epoch 10/20\n",
      "100/100 [==============================] - 25s 248ms/step - loss: 0.2310 - acc: 0.9512 - val_loss: 0.2443 - val_acc: 0.9418\n",
      "Epoch 11/20\n",
      "100/100 [==============================] - 28s 283ms/step - loss: 0.2154 - acc: 0.9528 - val_loss: 0.2199 - val_acc: 0.9548\n",
      "Epoch 12/20\n",
      "100/100 [==============================] - 16s 162ms/step - loss: 0.1729 - acc: 0.9584 - val_loss: 0.2683 - val_acc: 0.9474\n",
      "Epoch 13/20\n",
      "100/100 [==============================] - 15s 154ms/step - loss: 0.1631 - acc: 0.9597 - val_loss: 0.2578 - val_acc: 0.9521\n",
      "Epoch 14/20\n",
      "100/100 [==============================] - 15s 149ms/step - loss: 0.1552 - acc: 0.9613 - val_loss: 0.2428 - val_acc: 0.9515\n",
      "Epoch 15/20\n",
      "100/100 [==============================] - 15s 150ms/step - loss: 0.1611 - acc: 0.9621 - val_loss: 0.2337 - val_acc: 0.9475\n",
      "Epoch 16/20\n",
      "100/100 [==============================] - 18s 179ms/step - loss: 0.1502 - acc: 0.9646 - val_loss: 0.2620 - val_acc: 0.9507\n",
      "Epoch 17/20\n",
      "100/100 [==============================] - 16s 160ms/step - loss: 0.1371 - acc: 0.9671 - val_loss: 0.2590 - val_acc: 0.9497\n",
      "Epoch 18/20\n",
      "100/100 [==============================] - 17s 173ms/step - loss: 0.1402 - acc: 0.9667 - val_loss: 0.2938 - val_acc: 0.9510\n",
      "Epoch 19/20\n",
      "100/100 [==============================] - 16s 157ms/step - loss: 0.1346 - acc: 0.9695 - val_loss: 0.2705 - val_acc: 0.9439\n",
      "Epoch 20/20\n",
      "100/100 [==============================] - 15s 155ms/step - loss: 0.1239 - acc: 0.9708 - val_loss: 0.2966 - val_acc: 0.9520\n"
     ]
    }
   ],
   "source": [
    "history = model.fit_generator(train_generator,\n",
    "                              steps_per_epoch=100,\n",
    "                              epochs=20, \n",
    "                              verbose=1,\n",
    "                              validation_data=validate_generator,\n",
    "                              validation_steps=100,)\n",
    "#                               class_weight=[0.,0.])\n",
    "\n",
    "save_model(model)"
   ]
  },
  {
   "cell_type": "code",
   "execution_count": 16,
   "metadata": {},
   "outputs": [
    {
     "data": {
      "image/png": "[encoded data removed]",
      "text/plain": [
       "<Figure size 432x288 with 1 Axes>"
      ]
     },
     "metadata": {
      "needs_background": "light"
     },
     "output_type": "display_data"
    },
    {
     "data": {
      "image/png": "[encoded data removed]",
      "text/plain": [
       "<Figure size 432x288 with 1 Axes>"
      ]
     },
     "metadata": {
      "needs_background": "light"
     },
     "output_type": "display_data"
    }
   ],
   "source": [
    "plt.figure()\n",
    "plt.plot(history.history['loss'])\n",
    "plt.plot(history.history['val_loss'])\n",
    "plt.title('model loss')\n",
    "plt.ylabel('loss')\n",
    "plt.xlabel('epoch')\n",
    "plt.legend(['train', 'test'], loc='best')\n",
    "plt.show()\n",
    "\n",
    "plt.figure()\n",
    "plt.plot(history.history['acc'])\n",
    "plt.plot(history.history['val_acc'])\n",
    "plt.title('model accuracy')\n",
    "plt.ylabel('accuracy')\n",
    "plt.xlabel('epoch')\n",
    "plt.legend(['train', 'test'], loc='best')\n",
    "plt.show()"
   ]
  },
  {
   "cell_type": "code",
   "execution_count": null,
   "metadata": {},
   "outputs": [],
   "source": []
  },
  {
   "cell_type": "code",
   "execution_count": 32,
   "metadata": {},
   "outputs": [],
   "source": [
    "x, y, w = next(validate_generator)\n",
    "res = model.predict(X)"
   ]
  },
  {
   "cell_type": "code",
   "execution_count": 36,
   "metadata": {},
   "outputs": [],
   "source": [
    "save_dir = 'plots'\n",
    "\n",
    "if not os.path.exists(save_dir):\n",
    "        os.makedirs(save_dir)\n",
    "\n",
    "# for i in range(res.shape[0]):\n",
    "for i in range(50):\n",
    "    path = os.path.join(save_dir, str(i)+'.pdf')  \n",
    "    plt.figure()\n",
    "    plt.plot(X[i], lw=2, label='estimator')\n",
    "    plt.plot(np.argmax(res[i], axis=1)-8, lw=2, label='estimator')\n",
    "    plt.plot(np.argmax(y[i], axis=1)-8, lw=2, label='truth')\n",
    "    plt.ylim(-10., 10.)\n",
    "    plt.legend()\n",
    "    plt.savefig(path)\n",
    "    plt.close()"
   ]
  },
  {
   "cell_type": "code",
   "execution_count": 34,
   "metadata": {},
   "outputs": [
    {
     "data": {
      "text/plain": [
       "(100, 100, 2)"
      ]
     },
     "execution_count": 34,
     "metadata": {},
     "output_type": "execute_result"
    }
   ],
   "source": [
    "y.shape"
   ]
  },
  {
   "cell_type": "code",
   "execution_count": 28,
   "metadata": {},
   "outputs": [
    {
     "data": {
      "text/plain": [
       "(100, 100, 2)"
      ]
     },
     "execution_count": 28,
     "metadata": {},
     "output_type": "execute_result"
    }
   ],
   "source": []
  },
  {
   "cell_type": "code",
   "execution_count": null,
   "metadata": {},
   "outputs": [],
   "source": []
  }
 ],
 "metadata": {
  "kernelspec": {
   "display_name": "Python 3",
   "language": "python",
   "name": "python3"
  },
  "language_info": {
   "codemirror_mode": {
    "name": "ipython",
    "version": 3
   },
   "file_extension": ".py",
   "mimetype": "text/x-python",
   "name": "python",
   "nbconvert_exporter": "python",
   "pygments_lexer": "ipython3",
   "version": "3.6.6"
  }
 },
 "nbformat": 4,
 "nbformat_minor": 2
}
