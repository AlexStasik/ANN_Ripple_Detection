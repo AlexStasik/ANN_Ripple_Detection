{
 "cells": [
  {
   "cell_type": "code",
   "execution_count": 1,
   "metadata": {},
   "outputs": [
    {
     "name": "stderr",
     "output_type": "stream",
     "text": [
      "Using TensorFlow backend.\n"
     ]
    }
   ],
   "source": [
    "%matplotlib notebook\n",
    "import matplotlib.pyplot as plt\n",
    "import numpy as np\n",
    "import tensorflow as tf\n",
    "import keras\n",
    "import os\n",
    "import time"
   ]
  },
  {
   "cell_type": "code",
   "execution_count": 2,
   "metadata": {},
   "outputs": [],
   "source": [
    "X_serial = np.load('../data/processed_data/m4015_session2/X_serial.npy')\n",
    "y_serial = np.load('../data/processed_data/m4015_session2/y_serial.npy')\n",
    "\n",
    "res = tf.one_hot(y_serial, depth=2)\n",
    "with tf.Session() as sess:\n",
    "    y_serial = (sess.run(res))"
   ]
  },
  {
   "cell_type": "code",
   "execution_count": 3,
   "metadata": {},
   "outputs": [],
   "source": [
    "batch_size = 128\n",
    "lookback = 200\n",
    "\n",
    "\n",
    "def generator(X, y, batch_size, lookback):\n",
    "    batch_features = np.zeros((batch_size, lookback, 1))\n",
    "    batch_labels = np.zeros((batch_size, lookback, 2))\n",
    "    while True:\n",
    "        for i in range(batch_size):\n",
    "            while True:\n",
    "                index = np.random.randint(0, X.shape[0]-lookback)\n",
    "                if np.logical_and(np.sum(y[index:index+lookback][:,1]) / lookback > 0.3,\n",
    "                                  np.sum(y[index:index+lookback][:,1]) / lookback < 0.7):\n",
    "                    break\n",
    "            batch_features[i] = X[index:index+lookback]\n",
    "            batch_labels[i] = y[index:index+lookback]\n",
    "#         return batch_features, batch_labels\n",
    "        yield batch_features, batch_labels\n",
    "\n",
    "def save_model(model, save_dir='models'):\n",
    "    if not os.path.exists(save_dir):\n",
    "        os.makedirs(save_dir)\n",
    "    t = time.strftime(\"%Y%m%d-%H:%M:%S\")\n",
    "    path = os.path.join(save_dir, t+'.h5')  \n",
    "    model.save(path)"
   ]
  },
  {
   "cell_type": "code",
   "execution_count": 4,
   "metadata": {},
   "outputs": [],
   "source": [
    "# _, y = generator(X_serial[:1000000,:], y_serial[:1000000,:], batch_size, lookback)\n",
    "# y[10, :, 1]"
   ]
  },
  {
   "cell_type": "code",
   "execution_count": 5,
   "metadata": {},
   "outputs": [],
   "source": [
    "train_generator = generator(X_serial[:1000000,:], y_serial[:1000000], batch_size, lookback)\n",
    "validate_generator = generator(X_serial[1000000:,:], y_serial[1000000:], batch_size, lookback)"
   ]
  },
  {
   "cell_type": "code",
   "execution_count": null,
   "metadata": {},
   "outputs": [],
   "source": []
  },
  {
   "cell_type": "code",
   "execution_count": 6,
   "metadata": {},
   "outputs": [
    {
     "name": "stdout",
     "output_type": "stream",
     "text": [
      "_________________________________________________________________\n",
      "Layer (type)                 Output Shape              Param #   \n",
      "=================================================================\n",
      "input_1 (InputLayer)         (None, None, 1)           0         \n",
      "_________________________________________________________________\n",
      "lstm_1 (LSTM)                (None, None, 100)         40800     \n",
      "_________________________________________________________________\n",
      "dense_1 (Dense)              (None, None, 2)           202       \n",
      "=================================================================\n",
      "Total params: 41,002\n",
      "Trainable params: 41,002\n",
      "Non-trainable params: 0\n",
      "_________________________________________________________________\n",
      "None\n"
     ]
    }
   ],
   "source": [
    "n_dim = 1\n",
    "input_shape = (None,n_dim)\n",
    "batch_size = lookback\n",
    "\n",
    "keras.backend.clear_session()\n",
    "inputs = keras.layers.Input(shape=input_shape)\n",
    "\n",
    "x = keras.layers.LSTM(100, activation='tanh', return_sequences=True)(inputs)\n",
    "predictions = keras.layers.Dense(2, activation='softmax')(x)\n",
    "\n",
    "model = keras.models.Model(inputs=inputs, outputs=predictions)\n",
    "model.compile(loss=['categorical_crossentropy'],\n",
    "              optimizer=keras.optimizers.Adam(lr=0.01))\n",
    "\n",
    "\n",
    "print(model.summary())"
   ]
  },
  {
   "cell_type": "code",
   "execution_count": 7,
   "metadata": {},
   "outputs": [
    {
     "name": "stdout",
     "output_type": "stream",
     "text": [
      "Epoch 1/10\n",
      "100/100 [==============================] - 106s 1s/step - loss: 0.6955 - val_loss: 0.6967\n",
      "Epoch 2/10\n",
      "100/100 [==============================] - 94s 939ms/step - loss: 0.6912 - val_loss: 0.6944\n",
      "Epoch 3/10\n",
      "100/100 [==============================] - 94s 935ms/step - loss: 0.6896 - val_loss: 0.6849\n",
      "Epoch 4/10\n",
      "100/100 [==============================] - 98s 980ms/step - loss: 0.6928 - val_loss: 0.7005\n",
      "Epoch 5/10\n",
      "100/100 [==============================] - 96s 963ms/step - loss: 0.6944 - val_loss: 0.6941\n",
      "Epoch 6/10\n",
      "100/100 [==============================] - 100s 1s/step - loss: 0.6920 - val_loss: 0.6936\n",
      "Epoch 7/10\n",
      "100/100 [==============================] - 96s 963ms/step - loss: 0.6898 - val_loss: 0.6915\n",
      "Epoch 8/10\n",
      "100/100 [==============================] - 98s 977ms/step - loss: 0.6906 - val_loss: 0.6943\n",
      "Epoch 9/10\n",
      "100/100 [==============================] - 93s 929ms/step - loss: 0.6909 - val_loss: 0.6952\n",
      "Epoch 10/10\n",
      "100/100 [==============================] - 94s 940ms/step - loss: 0.6904 - val_loss: 0.6915\n"
     ]
    }
   ],
   "source": [
    "epochs = 20\n",
    "\n",
    "# history = model.fit(train_input, train_output, batch_size=batch_size, epochs=epochs, \n",
    "#                     verbose=True, validation_data=(test_input, test_output))\n",
    "\n",
    "history = model.fit_generator(train_generator,\n",
    "                              steps_per_epoch=100,\n",
    "                              epochs=10, \n",
    "                              verbose=1,\n",
    "                              validation_data=validate_generator,\n",
    "                              validation_steps=100)\n",
    "\n",
    "save_model(model)"
   ]
  },
  {
   "cell_type": "code",
   "execution_count": 8,
   "metadata": {},
   "outputs": [
    {
     "data": {
      "text/plain": [
       "'/Users/astasik/Desktop/ANN_Ripple_Detection/ANNs'"
      ]
     },
     "execution_count": 8,
     "metadata": {},
     "output_type": "execute_result"
    }
   ],
   "source": [
    "pwd"
   ]
  },
  {
   "cell_type": "code",
   "execution_count": 9,
   "metadata": {},
   "outputs": [],
   "source": [
    "X_serial = np.load('../data/processed_data/m4015_session2/X_serial.npy')\n",
    "y_serial = np.load('../data/processed_data/m4015_session2/y_serial.npy')"
   ]
  },
  {
   "cell_type": "code",
   "execution_count": 10,
   "metadata": {},
   "outputs": [
    {
     "data": {
      "text/plain": [
       "0.020211432474913946"
      ]
     },
     "execution_count": 10,
     "metadata": {},
     "output_type": "execute_result"
    }
   ],
   "source": [
    "np.sum(y_serial)/len(y_serial)"
   ]
  },
  {
   "cell_type": "code",
   "execution_count": null,
   "metadata": {},
   "outputs": [],
   "source": []
  }
 ],
 "metadata": {
  "kernelspec": {
   "display_name": "Python 3",
   "language": "python",
   "name": "python3"
  },
  "language_info": {
   "codemirror_mode": {
    "name": "ipython",
    "version": 3
   },
   "file_extension": ".py",
   "mimetype": "text/x-python",
   "name": "python",
   "nbconvert_exporter": "python",
   "pygments_lexer": "ipython3",
   "version": "3.6.8"
  }
 },
 "nbformat": 4,
 "nbformat_minor": 2
}
