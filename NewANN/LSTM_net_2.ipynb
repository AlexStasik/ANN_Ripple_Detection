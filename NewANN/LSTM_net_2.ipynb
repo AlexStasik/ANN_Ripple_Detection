{
 "cells": [
  {
   "cell_type": "markdown",
   "metadata": {},
   "source": [
    "Simple recurrent neural network (RNN) implementation in Keras using LSTM (long short-term memory) units to identify time of occurence of some events in temporal data based on the wavelet spectrogram of the data"
   ]
  },
  {
   "cell_type": "code",
   "execution_count": null,
   "metadata": {},
   "outputs": [],
   "source": [
    "%matplotlib inline"
   ]
  },
  {
   "cell_type": "code",
   "execution_count": null,
   "metadata": {},
   "outputs": [],
   "source": [
    "import os\n",
    "import numpy as np\n",
    "import scipy.signal as ss\n",
    "import matplotlib.pyplot as plt\n",
    "from matplotlib.gridspec import GridSpec\n",
    "import tensorflow\n",
    "from tensorflow import keras\n",
    "import h5py # TODO: use tensorflow.keras.utils.HDF5Matrix"
   ]
  },
  {
   "cell_type": "code",
   "execution_count": null,
   "metadata": {},
   "outputs": [],
   "source": [
    "from tensorflow.python.client import device_lib\n",
    "print(device_lib.list_local_devices())"
   ]
  },
  {
   "cell_type": "code",
   "execution_count": null,
   "metadata": {},
   "outputs": [],
   "source": [
    "np.random.seed(1234)"
   ]
  },
  {
   "cell_type": "markdown",
   "metadata": {},
   "source": [
    "# Load training/validation data"
   ]
  },
  {
   "cell_type": "code",
   "execution_count": null,
   "metadata": {},
   "outputs": [],
   "source": [
    "# load training/validation datas with labels\n",
    "f = h5py.File(os.path.join('data', 'processed', 'data.h5'), 'r')\n",
    "X0 = f['X0'][:]\n",
    "X = f['X'][:]\n",
    "Y = f['Y'][:]\n",
    "labels = f['labels'][:]\n",
    "waveletfreqs = f['waveletfreqs'][:]\n",
    "f.close()\n",
    "\n",
    "# center raw data\n",
    "X0 = (X0.T - X0.mean(axis=-1)).T\n",
    "\n",
    "# randomly permute order of datasets\n",
    "permutation = np.random.permutation(np.arange(X0.shape[0]))\n",
    "X0 = X0[permutation]\n",
    "X = X[permutation]\n",
    "Y = Y[permutation]\n",
    "labels = labels[permutation]"
   ]
  },
  {
   "cell_type": "code",
   "execution_count": null,
   "metadata": {},
   "outputs": [],
   "source": [
    "# some needed parameters\n",
    "n_samples = X0.shape[0]\n",
    "Fs = 2500 # Hz, sampling freq\n",
    "time = np.arange(X0.shape[1]) / Fs\n",
    "n_val_samples = 50 # number of validation samples"
   ]
  },
  {
   "cell_type": "code",
   "execution_count": null,
   "metadata": {},
   "outputs": [],
   "source": [
    "# test plot\n",
    "plt.figure()\n",
    "plt.plot(time, X0[0, :], label='raw data')\n",
    "plt.plot(time, Y[0, :, 0], label='label (y)')\n",
    "plt.legend()\n",
    "plt.xlabel('t (s)')"
   ]
  },
  {
   "cell_type": "code",
   "execution_count": null,
   "metadata": {},
   "outputs": [],
   "source": [
    "# plot all labels and raw data matrices\n",
    "fig, axes = plt.subplots(2, 1, sharex=True, sharey=True, figsize=(12, 12))\n",
    "axes[0].pcolormesh(time, np.arange(n_samples), Y[:, :, 0])\n",
    "axes[0].set_ylabel('#')\n",
    "axes[0].set_title('labels (y)')\n",
    "axes[1].pcolormesh(time, np.arange(n_samples), X0)\n",
    "axes[1].set_ylabel('#')\n",
    "axes[1].set_xlabel('t (s)')\n",
    "axes[1].set_title('raw data')\n",
    "for ax in axes:\n",
    "    ax.axis(ax.axis('tight'))"
   ]
  },
  {
   "cell_type": "code",
   "execution_count": null,
   "metadata": {},
   "outputs": [],
   "source": [
    "# plot wavelet spectrograms vs. labels and raw data for some samples\n",
    "for i in range(3):\n",
    "    gs = GridSpec(4, 1)\n",
    "    fig = plt.figure(figsize=(12, 8))\n",
    "    ax0 = fig.add_subplot(gs[0, 0])\n",
    "    ax0.plot(time, X0[i, ], label='raw data')\n",
    "    ax0.plot(time, Y[i, :, 0], label='label (y)' )\n",
    "    ax0.legend(ncol=2)\n",
    "    ax0.axis(ax0.axis('tight'))\n",
    "    ax0.set_title('label and raw data')\n",
    "    plt.setp(ax0.get_xticklabels(), visible=False)\n",
    "    \n",
    "    ax1 = fig.add_subplot(gs[1:, 0], sharex=ax0)\n",
    "    im = ax1.pcolormesh(time, waveletfreqs, X[i, ].T, vmin=0, vmax=X.std()*2)\n",
    "    ax1.axis(ax1.axis('tight'))\n",
    "    ax1.set_ylabel('f (Hz)')\n",
    "    ax1.set_xlabel('t (s)')"
   ]
  },
  {
   "cell_type": "markdown",
   "metadata": {},
   "source": [
    "# Set up recurrent neural network"
   ]
  },
  {
   "cell_type": "code",
   "execution_count": null,
   "metadata": {},
   "outputs": [],
   "source": [
    "def generate_model(input_shape, lr=0.01, dropout_rate=0.2, layer_sizes=[5, 5, 5], ):\n",
    "    keras.backend.clear_session()\n",
    "\n",
    "    # input layer\n",
    "    inputs = keras.layers.Input(shape=input_shape)\n",
    "    \n",
    "    # conv layer\n",
    "    x = keras.layers.Conv1D(layer_sizes[0], \n",
    "                            kernel_size=5, strides=1, \n",
    "                            padding='same'\n",
    "                           )(inputs)\n",
    "    x = keras.layers.BatchNormalization()(x)\n",
    "    x = keras.layers.Activation('relu')(x)\n",
    "    x = keras.layers.Dropout(dropout_rate)(x)\n",
    "    \n",
    "    # LSTM layer 1\n",
    "    x = keras.layers.LSTM(layer_sizes[1], return_sequences=True)(x)\n",
    "    x = keras.layers.BatchNormalization()(x)  \n",
    "    x = keras.layers.Dropout(dropout_rate)(x)\n",
    "    \n",
    "    # LSTM layer 2\n",
    "    x = keras.layers.LSTM(layer_sizes[2], return_sequences=True)(x)\n",
    "    x = keras.layers.Dropout(dropout_rate)(x)\n",
    "    x = keras.layers.BatchNormalization()(x)\n",
    "    x = keras.layers.Dropout(dropout_rate)(x)\n",
    "        \n",
    "    # dense output layer\n",
    "    predictions = keras.layers.TimeDistributed(\n",
    "        keras.layers.Dense(1, activation='sigmoid'))(x)\n",
    "    \n",
    "    # Define model\n",
    "    model = keras.models.Model(inputs=inputs, outputs=predictions)\n",
    "\n",
    "    opt = keras.optimizers.Adam(lr=lr)\n",
    "    model.compile(loss='binary_crossentropy', optimizer=opt, metrics=['accuracy', 'mse'])\n",
    "\n",
    "    return model"
   ]
  },
  {
   "cell_type": "code",
   "execution_count": null,
   "metadata": {},
   "outputs": [],
   "source": [
    "model = generate_model(input_shape=(None, X.shape[2]))"
   ]
  },
  {
   "cell_type": "code",
   "execution_count": null,
   "metadata": {},
   "outputs": [],
   "source": [
    "model.summary()"
   ]
  },
  {
   "cell_type": "code",
   "execution_count": null,
   "metadata": {},
   "outputs": [],
   "source": [
    "history = model.fit(X[:-n_val_samples, :, :], Y[:-n_val_samples, :, :], \n",
    "                    batch_size=20, epochs=20, \n",
    "                    validation_data=(X[-n_val_samples:, :, :], Y[-n_val_samples:, :, :]))"
   ]
  },
  {
   "cell_type": "code",
   "execution_count": null,
   "metadata": {},
   "outputs": [],
   "source": [
    "plt.figure()\n",
    "plt.semilogy(history.history['loss'], '-o', label='loss')\n",
    "#plt.plot(history.history['accuracy'], '-o', label='accuracy')\n",
    "#plt.plot(history.history['val_accuracy'], '-o', label='val_accuracy')\n",
    "plt.semilogy(history.history['mse'], '-o', label='mse')\n",
    "plt.semilogy(history.history['val_mse'], '-o', label='val_mse')\n",
    "plt.legend()\n",
    "plt.xlabel('epochs')\n",
    "plt.ylabel('loss')\n",
    "plt.title('training/validation loss')"
   ]
  },
  {
   "cell_type": "code",
   "execution_count": null,
   "metadata": {},
   "outputs": [],
   "source": [
    "# visualize predictions on some samples from the validation set\n",
    "#n_val_samples = 3\n",
    "n_plots = 3\n",
    "X_val = X[-n_val_samples:, ]\n",
    "Y_val = Y[-n_val_samples:, ]\n",
    "\n",
    "Y_pred = model.predict(X_val)\n",
    "\n",
    "# compare prediction to ground truth\n",
    "fig, axes = plt.subplots(n_plots, 2, figsize=(12, 12), \n",
    "                         sharex=True, sharey='col')\n",
    "for i in range(n_plots):\n",
    "    axes[i, 0].pcolormesh(time, waveletfreqs, X_val[i].T, vmin=0, vmax=X.std()*2)\n",
    "    axes[i, 1].plot(time, Y_val[i], label='$y(t)$')\n",
    "    axes[i, 1].plot(time, Y_pred[i], label='$\\hat{y}(t)$')\n",
    "    if i == 0:\n",
    "        axes[i, 1].legend()\n",
    "        axes[i, 0].set_title('$X(t)$')\n",
    "        axes[i, 1].set_title('$y(t)$ vs $\\hat{y}(t)$')\n",
    "    axes[i, 0].set_ylabel('f (Hz)')\n",
    "    axes[i, 1].set_ylabel('probability')\n",
    "axes[i, 0].set_xlabel('$t$ (s)')\n",
    "axes[i, 1].set_xlabel('$t$ (s)')"
   ]
  },
  {
   "cell_type": "code",
   "execution_count": null,
   "metadata": {},
   "outputs": [],
   "source": []
  }
 ],
 "metadata": {
  "kernelspec": {
   "display_name": "Python 3",
   "language": "python",
   "name": "python3"
  },
  "language_info": {
   "codemirror_mode": {
    "name": "ipython",
    "version": 3
   },
   "file_extension": ".py",
   "mimetype": "text/x-python",
   "name": "python",
   "nbconvert_exporter": "python",
   "pygments_lexer": "ipython3",
   "version": "3.6.7"
  }
 },
 "nbformat": 4,
 "nbformat_minor": 4
}
