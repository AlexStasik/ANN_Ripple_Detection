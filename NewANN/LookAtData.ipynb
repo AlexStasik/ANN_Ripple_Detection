{
 "cells": [
  {
   "cell_type": "code",
   "execution_count": null,
   "metadata": {},
   "outputs": [],
   "source": [
    "%matplotlib notebook"
   ]
  },
  {
   "cell_type": "code",
   "execution_count": null,
   "metadata": {},
   "outputs": [],
   "source": [
    "import numpy as np\n",
    "import scipy.io as sio\n",
    "import matplotlib.pyplot as plt\n",
    "import pandas as pd\n",
    "import scipy.signal as ss"
   ]
  },
  {
   "cell_type": "code",
   "execution_count": null,
   "metadata": {},
   "outputs": [],
   "source": [
    "raw_data = sio.loadmat('data/raw/m4000Series_m4028.mat')"
   ]
  },
  {
   "cell_type": "code",
   "execution_count": null,
   "metadata": {},
   "outputs": [],
   "source": [
    "lfp = raw_data['m4028_session1'][0][0][0].flatten()\n",
    "run_speed = raw_data['m4028_session1']['run_speed'][0][0].flatten()\n",
    "true_ripples = raw_data['m4028_session1']['rippleLocs'][0][0].flatten()\n",
    "\n",
    "candidate_ripples = sio.loadmat('data/raw/m4028_session1.mat')['rippleIdx'].flatten()\n",
    "duration = sio.loadmat('data/raw/m4028_session1.mat')['w'].flatten()"
   ]
  },
  {
   "cell_type": "code",
   "execution_count": null,
   "metadata": {},
   "outputs": [],
   "source": [
    "lfp.shape, run_speed.shape, true_ripples.shape"
   ]
  },
  {
   "cell_type": "code",
   "execution_count": null,
   "metadata": {},
   "outputs": [],
   "source": [
    "fs = 2500. \n",
    "dt = 1. / fs\n",
    "t = np.arange(lfp.shape[0]) * dt"
   ]
  },
  {
   "cell_type": "code",
   "execution_count": null,
   "metadata": {},
   "outputs": [],
   "source": []
  },
  {
   "cell_type": "code",
   "execution_count": null,
   "metadata": {},
   "outputs": [],
   "source": [
    "# filtering\n",
    "b, a = ss.butter(5, Wn=np.array([150, 250]) / (fs/2), btype='bandpass')\n",
    "fLFP = ss.filtfilt(b, a, lfp)                 "
   ]
  },
  {
   "cell_type": "code",
   "execution_count": null,
   "metadata": {},
   "outputs": [],
   "source": [
    "# hilbert transform\n",
    "eLFP = abs(ss.hilbert(fLFP))"
   ]
  },
  {
   "cell_type": "code",
   "execution_count": null,
   "metadata": {},
   "outputs": [],
   "source": [
    "# true_ripples, candidate_ripples\n",
    "ripple_true = np.zeros_like(lfp, dtype=int)\n",
    "ripple_cand = np.zeros_like(lfp, dtype=int)\n",
    "\n",
    "ripple_true[true_ripples] = 1\n",
    "ripple_cand[candidate_ripples] = 1"
   ]
  },
  {
   "cell_type": "code",
   "execution_count": null,
   "metadata": {},
   "outputs": [],
   "source": [
    "df = pd.DataFrame(np.c_[t, lfp, fLFP, eLFP, run_speed, ripple_true, ripple_cand], \n",
    "                  columns=['time', 'LFP', 'fLFP', 'eLFP', 'speed', 'ripple_true', 'ripple_cand'])"
   ]
  },
  {
   "cell_type": "code",
   "execution_count": null,
   "metadata": {},
   "outputs": [],
   "source": [
    "df"
   ]
  },
  {
   "cell_type": "code",
   "execution_count": null,
   "metadata": {},
   "outputs": [],
   "source": [
    "plt.figure(figsize=(8, 8))\n",
    "plt.plot(t, lfp, label='Raw LFP')\n",
    "plt.plot(t, fLFP, label='filtered LFP')\n",
    "plt.plot(t, eLFP, label='envelope')\n",
    "\n",
    "\n",
    "#plt.plot(t, run_speed, label='running speed')\n",
    "\n",
    "plt.vlines(t[true_ripples], \n",
    "           np.zeros(t[true_ripples].size), np.zeros(t[true_ripples].size)+0.05, \n",
    "           'k', zorder=10)\n",
    "plt.vlines(t[candidate_ripples], \n",
    "           np.zeros(t[candidate_ripples].size)-0.05, np.zeros(t[candidate_ripples].size), \n",
    "           'r', zorder=10)\n",
    "plt.grid()\n",
    "\n",
    "#for i in range(true_ripples.shape[0]):\n",
    "#    plt.scatter(x=t[true_ripples[i]], color='black')\n",
    "#for i in range(true_ripples.shape[0]):\n",
    "#    plt.axvline(x=t[true_ripples[i]], color='black')\n",
    "plt.legend()\n",
    "plt.show()"
   ]
  },
  {
   "cell_type": "code",
   "execution_count": null,
   "metadata": {},
   "outputs": [],
   "source": [
    "plt.vlines"
   ]
  },
  {
   "cell_type": "code",
   "execution_count": null,
   "metadata": {},
   "outputs": [],
   "source": [
    "# fS, tS, Sxx = signal.spectrogram(lfp[(t>=100) & (t <200)], fs, nfft=256, noverlap=250)"
   ]
  },
  {
   "cell_type": "code",
   "execution_count": null,
   "metadata": {},
   "outputs": [],
   "source": [
    "# plt.figure()\n",
    "# plt.pcolormesh(tS, fS[fS>=10], np.log(Sxx[fS>=10, ]))\n",
    "# plt.plot(t[true_ripples], np.zeros(t[true_ripples].size)+200, 'w|')\n",
    "# plt.xlim(tS.min(), tS.max())\n",
    "# plt.ylabel('Frequency [Hz]')\n",
    "# plt.xlabel('Time [sec]')\n",
    "# plt.show()"
   ]
  },
  {
   "cell_type": "code",
   "execution_count": null,
   "metadata": {},
   "outputs": [],
   "source": []
  },
  {
   "cell_type": "code",
   "execution_count": null,
   "metadata": {},
   "outputs": [],
   "source": []
  }
 ],
 "metadata": {
  "kernelspec": {
   "display_name": "Python 3",
   "language": "python",
   "name": "python3"
  },
  "language_info": {
   "codemirror_mode": {
    "name": "ipython",
    "version": 3
   },
   "file_extension": ".py",
   "mimetype": "text/x-python",
   "name": "python",
   "nbconvert_exporter": "python",
   "pygments_lexer": "ipython3",
   "version": "3.6.7"
  }
 },
 "nbformat": 4,
 "nbformat_minor": 2
}
