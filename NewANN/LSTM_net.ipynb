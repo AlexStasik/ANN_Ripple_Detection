{
 "cells": [
  {
   "cell_type": "code",
   "execution_count": 1,
   "metadata": {},
   "outputs": [],
   "source": [
    "%matplotlib notebook"
   ]
  },
  {
   "cell_type": "code",
   "execution_count": 2,
   "metadata": {},
   "outputs": [],
   "source": [
    "import numpy as np\n",
    "import scipy.io as sio\n",
    "import matplotlib.pyplot as plt\n",
    "import pandas as pd\n",
    "import scipy.signal as ss"
   ]
  },
  {
   "cell_type": "raw",
   "metadata": {},
   "source": [
    "# methods and stuff\n",
    "\n",
    "def generator(X, y, batch_size, window_size, threashold=0.5):\n",
    "\n",
    "    while True:\n",
    "\n",
    "        batch_features = np.zeros((batch_size, window_size, 1))\n",
    "        batch_velocity = np.zeros((batch_size, window_size, 1))\n",
    "        batch_labels = np.zeros((batch_size, 2))\n",
    "\n",
    "        i = 0\n",
    "        while i < batch_size:\n",
    "            index = np.random.randint(0, X.shape[0] - window_size)\n",
    "            val = y[1, index:index + window_size]\n",
    "            ripple_overlap = np.sum(val) / val.shape[0]\n",
    "            if ripple_overlap > threashold:\n",
    "                a = X[index:index + window_size]\n",
    "                batch_features[i] = np.reshape(a, (a.shape[0], -1))\n",
    "                if y[0, index:index + window_size].sum() == 0:\n",
    "                    batch_labels[i] = np.array([1, 0])\n",
    "                else:\n",
    "                    batch_labels[i] = np.array([0, 1])\n",
    "                i += 1\n",
    "            else:\n",
    "                pass\n",
    "\n",
    "        yield batch_features, batch_labels\n",
    "        \n",
    "def decode(value, threshold=0.992):\n",
    "    mask = value[:, 1] > threshold\n",
    "    y_pred_int = np.array(mask, dtype=int)\n",
    "    return y_pred_int\n"
   ]
  },
  {
   "cell_type": "code",
   "execution_count": null,
   "metadata": {},
   "outputs": [],
   "source": [
    "df = pd.read_pickle('data/processed/data.pkl')"
   ]
  },
  {
   "cell_type": "code",
   "execution_count": null,
   "metadata": {},
   "outputs": [],
   "source": [
    "df"
   ]
  },
  {
   "cell_type": "code",
   "execution_count": null,
   "metadata": {},
   "outputs": [],
   "source": [
    "# TODO: define smoothed envelope as feature"
   ]
  },
  {
   "cell_type": "code",
   "execution_count": null,
   "metadata": {},
   "outputs": [],
   "source": [
    "# define training and validation data\n",
    "X = []\n",
    "Y = []\n",
    "fs = 2500 # Hz\n",
    "nsteps = 2500 # 0.xx s \n",
    "boxcar_width = 0.05 # s\n",
    "boxcar_full = ss.lfilter(np.ones(int(fs * boxcar_width)), 1, df['ripple_true'])\n",
    "for tstep in np.where(df['ripple_true'] == 1)[0]:\n",
    "    inds = np.arange(- nsteps // 2, nsteps // 2) + tstep\n",
    "    X += [np.c_[[df['LFP'][inds] - df['LFP'][inds].mean(), df['fLFP'][inds], df['eLFP'][inds]]].T]\n",
    "    Y += [boxcar_full[inds + int(fs * boxcar_width / 2)]]\n",
    "X = np.array(X)\n",
    "Y = np.array(Y)\n",
    "Y[Y >= 1] = 1.\n",
    "Y = np.expand_dims(Y, axis=-1)"
   ]
  },
  {
   "cell_type": "code",
   "execution_count": null,
   "metadata": {},
   "outputs": [],
   "source": [
    "X.shape, Y.shape"
   ]
  },
  {
   "cell_type": "code",
   "execution_count": null,
   "metadata": {
    "scrolled": false
   },
   "outputs": [],
   "source": [
    "fig, axes = plt.subplots(20, 1, figsize=(8, 32))\n",
    "axes = axes.flatten()\n",
    "for i, ax in enumerate(axes):\n",
    "    ax.plot(X[i] / X[i].std(axis=0))\n",
    "    ax.plot(Y[i])\n",
    "    ax.axis(ax.axis('tight'))"
   ]
  },
  {
   "cell_type": "code",
   "execution_count": null,
   "metadata": {},
   "outputs": [],
   "source": [
    "import keras\n",
    "from keras.models import Sequential\n",
    "from keras.models import load_model\n",
    "from keras.layers import Dense\n",
    "from keras.layers import LSTM\n",
    "from keras.layers import Conv1D\n",
    "from keras.utils.vis_utils import plot_model\n",
    "from keras.layers.normalization import BatchNormalization"
   ]
  },
  {
   "cell_type": "code",
   "execution_count": null,
   "metadata": {},
   "outputs": [],
   "source": [
    "def generate_model_LSTM(input_shape):\n",
    "    keras.backend.clear_session()\n",
    "\n",
    "    # input layer\n",
    "    inputs = keras.layers.Input(shape=input_shape)\n",
    "    \n",
    "    # conv layer\n",
    "    x = keras.layers.Conv1D(20, kernel_size=10, strides=1, \n",
    "                           padding='same'\n",
    "                           )(inputs)\n",
    "    x = keras.layers.BatchNormalization()(x)\n",
    "    x = keras.layers.Activation('sigmoid')(x)\n",
    "    x = keras.layers.Dropout(0.8)(x)\n",
    "    \n",
    "    # LSTM layer 1\n",
    "    #x = keras.layers.LSTM(20, activation='relu', return_sequences=True)(x)\n",
    "    x = keras.layers.LSTM(20, return_sequences=True)(x)\n",
    "    #x = keras.layers.Activation('sigmoid')(x)\n",
    "    x = keras.layers.BatchNormalization()(x)  \n",
    "    x = keras.layers.Dropout(0.8)(x)\n",
    "    \n",
    "    # LSTM layer 2\n",
    "    #x = keras.layers.GaussianNoise(1.5)(x)\n",
    "    x = keras.layers.LSTM(20, return_sequences=True)(x)\n",
    "    #x = keras.layers.Activation('sigmoid')(x)\n",
    "    #x = keras.layers.Dropout(0.8)(x)\n",
    "    x = keras.layers.BatchNormalization()(x)\n",
    "    x = keras.layers.Dropout(0.8)(x)\n",
    "    \n",
    "    # dense layer 1\n",
    "    # x = keras.layers.TimeDistributed(Dense(20, activation='sigmoid'))(x)\n",
    "    \n",
    "    # dense output layer\n",
    "    predictions = keras.layers.TimeDistributed(\n",
    "        Dense(1, activation = \"sigmoid\"))(x) # time distributed  (sigmoid)\n",
    "    \n",
    "    # Define model\n",
    "    model = keras.models.Model(inputs=inputs, outputs=predictions)\n",
    "\n",
    "    #opt = keras.optimizers.Adam(lr=0.0001, beta_1=0.9, beta_2=0.999, decay=0.01)\n",
    "    opt = keras.optimizers.Adam(lr=0.005)\n",
    "    model.compile(loss='binary_crossentropy', optimizer=opt, metrics=[\"accuracy\"])\n",
    "           #model.compile(loss=['categorical_crossentropy'],\n",
    "    #              optimizer=keras.optimizers.Adam(lr=0.01),\n",
    "    #              metrics=['accuracy'],\n",
    "    #              # sample_weight_mode='temporal',\n",
    "    #              )\n",
    "\n",
    "    return model"
   ]
  },
  {
   "cell_type": "code",
   "execution_count": null,
   "metadata": {},
   "outputs": [],
   "source": [
    "model = generate_model_LSTM(input_shape=X[0].shape)"
   ]
  },
  {
   "cell_type": "code",
   "execution_count": null,
   "metadata": {},
   "outputs": [],
   "source": [
    "model.summary()"
   ]
  },
  {
   "cell_type": "code",
   "execution_count": null,
   "metadata": {},
   "outputs": [],
   "source": [
    "X.shape, Y.shape"
   ]
  },
  {
   "cell_type": "code",
   "execution_count": null,
   "metadata": {},
   "outputs": [],
   "source": [
    "history = model.fit(X, Y, batch_size=16, epochs=10, validation_split=0.1)"
   ]
  },
  {
   "cell_type": "code",
   "execution_count": null,
   "metadata": {},
   "outputs": [],
   "source": [
    "plt.figure()\n",
    "plt.plot(history.history['loss'], '-o', label='loss')\n",
    "plt.plot(history.history['accuracy'], '-o', label='accuracy')\n",
    "plt.plot(history.history['val_accuracy'], '-o', label='val_accuracy')\n",
    "plt.legend()"
   ]
  },
  {
   "cell_type": "code",
   "execution_count": null,
   "metadata": {},
   "outputs": [],
   "source": [
    "# run prediction on a sample\n",
    "Ypred = model.predict(X[-20:])"
   ]
  },
  {
   "cell_type": "code",
   "execution_count": null,
   "metadata": {},
   "outputs": [],
   "source": [
    "# compare prediction to ground truth\n",
    "fig, axes = plt.subplots(20, 1, figsize=(8, 16))\n",
    "for i in range(axes.size):\n",
    "    axes[i].plot(Y[-20:][i].flatten())\n",
    "    axes[i].plot(Ypred[i].flatten())    "
   ]
  },
  {
   "cell_type": "code",
   "execution_count": null,
   "metadata": {},
   "outputs": [],
   "source": []
  }
 ],
 "metadata": {
  "kernelspec": {
   "display_name": "Python 3",
   "language": "python",
   "name": "python3"
  },
  "language_info": {
   "codemirror_mode": {
    "name": "ipython",
    "version": 3
   },
   "file_extension": ".py",
   "mimetype": "text/x-python",
   "name": "python",
   "nbconvert_exporter": "python",
   "pygments_lexer": "ipython3",
   "version": "3.6.7"
  }
 },
 "nbformat": 4,
 "nbformat_minor": 2
}
