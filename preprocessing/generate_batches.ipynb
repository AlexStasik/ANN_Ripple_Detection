{
 "cells": [
  {
   "cell_type": "code",
   "execution_count": 38,
   "metadata": {},
   "outputs": [],
   "source": [
    "import numpy as np"
   ]
  },
  {
   "cell_type": "code",
   "execution_count": 41,
   "metadata": {},
   "outputs": [],
   "source": [
    "X_serial = np.load('../data/processed_data/m4015_session2/X_serial.npy')\n",
    "y_serial = np.load('../data/processed_data/m4015_session2/y_serial.npy')\n",
    "\n",
    "series_length = 200\n",
    "n_series = int(np.floor(X_serial.shape[0] / series_length)) * 100"
   ]
  },
  {
   "cell_type": "code",
   "execution_count": 42,
   "metadata": {},
   "outputs": [],
   "source": [
    "X = np.empty((n_series, series_length, X_serial.shape[-1]))\n",
    "y = np.empty((n_series, series_length, ))"
   ]
  },
  {
   "cell_type": "code",
   "execution_count": 43,
   "metadata": {},
   "outputs": [],
   "source": [
    "for i in range(n_series):\n",
    "    start_index = np.random.randint(0, X_serial.shape[0]-series_length)\n",
    "    X[i] = X_serial[start_index:start_index+series_length]\n",
    "    y[i] = y_serial[start_index:start_index+series_length]"
   ]
  },
  {
   "cell_type": "code",
   "execution_count": 45,
   "metadata": {},
   "outputs": [],
   "source": [
    "np.save('test.npy', X)"
   ]
  },
  {
   "cell_type": "code",
   "execution_count": null,
   "metadata": {},
   "outputs": [],
   "source": []
  },
  {
   "cell_type": "code",
   "execution_count": 46,
   "metadata": {},
   "outputs": [
    {
     "ename": "SyntaxError",
     "evalue": "invalid syntax (<ipython-input-46-4dc1e05bea93>, line 1)",
     "output_type": "error",
     "traceback": [
      "\u001b[0;36m  File \u001b[0;32m\"<ipython-input-46-4dc1e05bea93>\"\u001b[0;36m, line \u001b[0;32m1\u001b[0m\n\u001b[0;31m    def generate_batch_data(X_serial, y_serial)\u001b[0m\n\u001b[0m                                               ^\u001b[0m\n\u001b[0;31mSyntaxError\u001b[0m\u001b[0;31m:\u001b[0m invalid syntax\n"
     ]
    }
   ],
   "source": [
    "def generate_batch_data(X_serial, y_serial, scaling=100):\n",
    "    series_length = 200\n",
    "    n_series = int(np.floor(X_serial.shape[0] / series_length)) * scaling\n",
    "    \n",
    "    X = np.empty((n_series, series_length, X_serial.shape[-1]))\n",
    "    y = np.empty((n_series, series_length, ))"
   ]
  },
  {
   "cell_type": "code",
   "execution_count": null,
   "metadata": {},
   "outputs": [],
   "source": []
  }
 ],
 "metadata": {
  "kernelspec": {
   "display_name": "Python 3",
   "language": "python",
   "name": "python3"
  },
  "language_info": {
   "codemirror_mode": {
    "name": "ipython",
    "version": 3
   },
   "file_extension": ".py",
   "mimetype": "text/x-python",
   "name": "python",
   "nbconvert_exporter": "python",
   "pygments_lexer": "ipython3",
   "version": "3.6.6"
  }
 },
 "nbformat": 4,
 "nbformat_minor": 2
}
