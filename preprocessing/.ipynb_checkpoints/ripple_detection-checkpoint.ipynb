{
 "cells": [
  {
   "cell_type": "code",
   "execution_count": 7,
   "metadata": {},
   "outputs": [],
   "source": [
    "# %matplotlib notebook\n",
    "%matplotlib inline\n",
    "\n",
    "import scipy.io as sio\n",
    "\n",
    "import numpy as np\n",
    "import math\n",
    "import os\n",
    "import matplotlib\n",
    "import matplotlib.pyplot as plt\n",
    "import datetime\n",
    "import time\n",
    "import quantities as pq\n",
    "\n",
    "\n",
    "from ripple_detection import Karlsson_ripple_detector, Kay_ripple_detector\n",
    "from ripple_detection.simulate import simulate_time\n",
    "import scipy.stats\n",
    "\n",
    "import warnings\n",
    "warnings.simplefilter(action='ignore', category=FutureWarning)"
   ]
  },
  {
   "cell_type": "code",
   "execution_count": 8,
   "metadata": {},
   "outputs": [],
   "source": [
    "data = sio.loadmat('../data/lfpTrace_ripples.mat')\n",
    "run_info = sio.loadmat('../their_analysis/m4008_20180423_session025_runSpeed.mat')\n",
    "\n",
    "\n",
    "X = data['lfp'].flatten()\n",
    "ripple_loc = (data['rippleLocs'].T).flatten()\n",
    "Y = np.zeros_like(X)\n",
    "Y[ripple_loc] = 1\n",
    "\n",
    "run_info = run_info['run_speed'].flatten()"
   ]
  },
  {
   "cell_type": "code",
   "execution_count": null,
   "metadata": {},
   "outputs": [],
   "source": []
  },
  {
   "cell_type": "code",
   "execution_count": 9,
   "metadata": {},
   "outputs": [],
   "source": [
    "SAMPLING_FREQUENCY = 2.5e3\n",
    "n_samples = data['lfp'].shape[0]\n",
    "time = simulate_time(n_samples, SAMPLING_FREQUENCY)\n",
    "speed = np.ones_like(time)\n",
    "\n",
    "LFPs = data['lfp']"
   ]
  },
  {
   "cell_type": "code",
   "execution_count": 11,
   "metadata": {},
   "outputs": [
    {
     "data": {
      "text/plain": [
       "(1507744, 1)"
      ]
     },
     "execution_count": 11,
     "metadata": {},
     "output_type": "execute_result"
    }
   ],
   "source": [
    "LFPs.shape"
   ]
  },
  {
   "cell_type": "code",
   "execution_count": 4,
   "metadata": {},
   "outputs": [],
   "source": [
    "Karlsson_ripple_times = Karlsson_ripple_detector(time, LFPs, speed, SAMPLING_FREQUENCY)\n",
    "Kay_ripple_times = Kay_ripple_detector(time, LFPs, speed, SAMPLING_FREQUENCY)\n",
    "\n",
    "# display(Karlsson_ripple_times)"
   ]
  },
  {
   "cell_type": "code",
   "execution_count": 5,
   "metadata": {},
   "outputs": [
    {
     "name": "stderr",
     "output_type": "stream",
     "text": [
      "/Users/astasik/anaconda3/envs/machine/lib/python3.6/site-packages/matplotlib/figure.py:457: UserWarning: matplotlib is currently using a non-GUI backend, so cannot show the figure\n",
      "  \"matplotlib is currently using a non-GUI backend, \"\n"
     ]
    },
    {
     "data": {
      "image/png": "[encoded data removed]",
      "text/plain": [
       "<Figure size 432x288 with 2 Axes>"
      ]
     },
     "metadata": {
      "needs_background": "light"
     },
     "output_type": "display_data"
    }
   ],
   "source": [
    "f, (ax1, ax2) = plt.subplots(2, 1, sharex=True)\n",
    "\n",
    "ax1.plot(time, LFPs)\n",
    "for ripple in Karlsson_ripple_times.itertuples():\n",
    "    ax1.axvspan(ripple.start_time, ripple.end_time, alpha=0.3, color='red', zorder=0)\n",
    "for ripple in Kay_ripple_times.itertuples():\n",
    "    ax1.axvspan(ripple.start_time, ripple.end_time, alpha=0.3, color='yellow', zorder=0) \n",
    "for ripple in ripple_loc:\n",
    "    ax1.axvline(time[ripple], color='C2')\n",
    "ax2.plot(time[:-1], run_info)\n",
    "f.show()"
   ]
  },
  {
   "cell_type": "code",
   "execution_count": null,
   "metadata": {},
   "outputs": [],
   "source": [
    "for i, ripple in enumerate(Karlsson_ripple_times.itertuples()):\n",
    "    f, (ax1, ax2) = plt.subplots(2, 1, sharex=True)\n",
    "    \n",
    "    ax1.plot(time, LFPs)\n",
    "    ax1.axvspan(ripple.start_time, ripple.end_time, alpha=0.3, color='red', zorder=0)\n",
    "    ax1.set_xlim(ripple.start_time-0.2, ripple.end_time+0.1)\n",
    "    \n",
    "    for ripple2 in Kay_ripple_times.itertuples():\n",
    "        ax1.axvspan(ripple2.start_time, ripple2.end_time, alpha=0.3, color='yellow', zorder=0)\n",
    "    for ripple_true in ripple_loc:\n",
    "        ax1.axvline(time[ripple_true], color='C2')\n",
    "        \n",
    "    ax2.plot(time[:-1], run_info)\n",
    "    \n",
    "    path = os.path.join('..', 'plots', 'algo_1', str(i)+'.pdf')\n",
    "    f.savefig(path)\n",
    "    plt.close()\n",
    "    \n",
    "    \n",
    "for i, ripple in enumerate(Kay_ripple_times.itertuples()):\n",
    "    f, (ax1, ax2) = plt.subplots(2, 1, sharex=True)\n",
    "    \n",
    "    ax1.plot(time, LFPs)\n",
    "    ax1.axvspan(ripple.start_time, ripple.end_time, alpha=0.3, color='yellow', zorder=0)\n",
    "    ax1.set_xlim(ripple.start_time-0.2, ripple.end_time+0.1)\n",
    "    \n",
    "    for ripple2 in Karlsson_ripple_times.itertuples():\n",
    "        ax1.axvspan(ripple2.start_time, ripple2.end_time, alpha=0.3, color='red', zorder=0)\n",
    "    for ripple_true in ripple_loc:\n",
    "        ax1.axvline(time[ripple_true], color='C2')\n",
    "        \n",
    "    ax2.plot(time[:-1], run_info)\n",
    "    \n",
    "    path = os.path.join('..', 'plots', 'algo_2', str(i)+'.pdf')\n",
    "    f.savefig(path)\n",
    "    plt.close()\n",
    "    \n",
    "    \n",
    "for i, ripple in enumerate(ripple_loc):\n",
    "    f, (ax1, ax2) = plt.subplots(2, 1, sharex=True)\n",
    "    \n",
    "    ax1.plot(time, LFPs)\n",
    "    ax1.axvline(time[ripple], color='C2')\n",
    "    ax1.set_xlim(time[ripple]-0.3, time[ripple]+0.2)\n",
    "    \n",
    "    for ripple2 in Karlsson_ripple_times.itertuples():\n",
    "        ax1.axvspan(ripple2.start_time, ripple2.end_time, alpha=0.3, color='red', zorder=0)\n",
    "    for ripple2 in Kay_ripple_times.itertuples():\n",
    "        ax1.axvspan(ripple2.start_time, ripple2.end_time, alpha=0.3, color='yellow', zorder=0)\n",
    "        \n",
    "    ax2.plot(time[:-1], run_info)\n",
    "    \n",
    "    path = os.path.join('..', 'plots', 'algo_anna', str(i)+'.pdf')\n",
    "    f.savefig(path)\n",
    "    plt.close()"
   ]
  },
  {
   "cell_type": "code",
   "execution_count": null,
   "metadata": {},
   "outputs": [],
   "source": []
  },
  {
   "cell_type": "code",
   "execution_count": null,
   "metadata": {},
   "outputs": [],
   "source": [
    "start_1 = Karlsson_ripple_times['start_time'].values\n",
    "end_1 = Karlsson_ripple_times['end_time'].values\n",
    "\n",
    "start_2 = Kay_ripple_times['start_time'].values\n",
    "end_2 = Kay_ripple_times['end_time'].values\n",
    "\n",
    "ripples = time[ripple_loc]\n",
    "count = np.zeros_like(ripples)\n",
    "\n",
    "\n",
    "for i in range(len(ripples)):\n",
    "    for j in range(len(start_1)):\n",
    "        if np.logical_and(start_1[j]<=ripples[i], end_1[j]>=ripples[i]):\n",
    "            count[i] = 1\n",
    "    for j in range(len(start_2)):\n",
    "        if np.logical_and(start_2[j]<=ripples[i], end_2[j]>=ripples[i]):\n",
    "            count[i] = 1"
   ]
  },
  {
   "cell_type": "code",
   "execution_count": null,
   "metadata": {},
   "outputs": [],
   "source": [
    "sum(count)/len(count)"
   ]
  },
  {
   "cell_type": "code",
   "execution_count": null,
   "metadata": {},
   "outputs": [],
   "source": [
    "len(ripples), len(start_1), len(start_2)"
   ]
  },
  {
   "cell_type": "code",
   "execution_count": null,
   "metadata": {},
   "outputs": [],
   "source": []
  }
 ],
 "metadata": {
  "kernelspec": {
   "display_name": "Python 3",
   "language": "python",
   "name": "python3"
  },
  "language_info": {
   "codemirror_mode": {
    "name": "ipython",
    "version": 3
   },
   "file_extension": ".py",
   "mimetype": "text/x-python",
   "name": "python",
   "nbconvert_exporter": "python",
   "pygments_lexer": "ipython3",
   "version": "3.6.6"
  }
 },
 "nbformat": 4,
 "nbformat_minor": 2
}
